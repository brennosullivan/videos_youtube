{
 "cells": [
  {
   "cell_type": "code",
   "execution_count": null,
   "id": "2086f7ac",
   "metadata": {},
   "outputs": [],
   "source": [
    "import pandas as pd\n",
    "import requests\n",
    "import os\n",
    "import zipfile\n",
    "\n",
    "diretorio_atual = os.getcwd()\n",
    "\n",
    "os.chdir(f\"{diretorio_atual}/dados_cvm\")"
   ]
  },
  {
   "cell_type": "code",
   "execution_count": null,
   "id": "a9df7bb4",
   "metadata": {},
   "outputs": [],
   "source": [
    "anos = range(2010, 2023)\n",
    "\n",
    "url_base = \"https://dados.cvm.gov.br/dados/CIA_ABERTA/DOC/DFP/DADOS/\"\n",
    "\n",
    "for ano in anos:\n",
    "    \n",
    "    download = requests.get(url_base + f\"dfp_cia_aberta_{ano}.zip\")\n",
    "    \n",
    "    open(f\"dfp_cia_aberta_{ano}.zip\", \"wb\").write(download.content)"
   ]
  },
  {
   "cell_type": "code",
   "execution_count": null,
   "id": "2b906a52",
   "metadata": {},
   "outputs": [],
   "source": [
    "lista_demontracoes_2010_2022 = []\n",
    "\n",
    "diretorio_atual = os.getcwd()\n",
    "\n",
    "for arquivo in os.listdir(diretorio_atual):\n",
    "    \n",
    "    if arquivo == \".ipynb_checkpoints\":\n",
    "        \n",
    "        pass\n",
    "    \n",
    "    else:\n",
    "        \n",
    "        arquivo_zip = zipfile.ZipFile(arquivo)\n",
    "        \n",
    "        for planilha in arquivo_zip.namelist():\n",
    "            \n",
    "            demonstracao = pd.read_csv(arquivo_zip.open(planilha), sep = \";\", encoding = 'ISO-8859-1',\n",
    "                                      dtype = {\"ORDEM_EXERC\": \"category\"})\n",
    "            \n",
    "            lista_demontracoes_2010_2022.append(demonstracao)\n",
    "            \n"
   ]
  },
  {
   "cell_type": "code",
   "execution_count": null,
   "id": "e3c879aa",
   "metadata": {},
   "outputs": [],
   "source": [
    "base_dados = pd.concat(lista_demontracoes_2010_2022)\n",
    "\n",
    "base_dados"
   ]
  },
  {
   "cell_type": "code",
   "execution_count": null,
   "id": "6dc13374",
   "metadata": {},
   "outputs": [],
   "source": [
    "base_dados[['con_ind', 'tipo_dem']] = base_dados['GRUPO_DFP'].str.split(\"-\", expand = True)\n",
    "base_dados['con_ind'] = base_dados['con_ind'].str.strip()\n",
    "base_dados['tipo_dem'] = base_dados['tipo_dem'].str.strip()\n",
    "\n",
    "base_dados = base_dados[base_dados['ORDEM_EXERC'] != \"PENÚLTIMO\"]"
   ]
  },
  {
   "cell_type": "code",
   "execution_count": null,
   "id": "a8b3596a",
   "metadata": {},
   "outputs": [],
   "source": [
    "lista_dem = base_dados['tipo_dem'].unique()\n",
    "\n",
    "lista_dem"
   ]
  },
  {
   "cell_type": "code",
   "execution_count": null,
   "id": "41674b21",
   "metadata": {},
   "outputs": [],
   "source": [
    "lista_empresas = base_dados['DENOM_CIA'].unique()\n",
    "\n",
    "lista_empresas"
   ]
  },
  {
   "cell_type": "code",
   "execution_count": null,
   "id": "31e4df98",
   "metadata": {},
   "outputs": [],
   "source": [
    "weg_dre = base_dados[(base_dados[\"DENOM_CIA\"] == \"WEG S.A.\") & \n",
    "                     (base_dados[\"tipo_dem\"] == \"Demonstração do Resultado\") &\n",
    "                    (base_dados[\"DS_CONTA\"] == \"Receita de Venda de Bens e/ou Serviços\") &\n",
    "                    (base_dados[\"con_ind\"] == \"DF Consolidado\")]\n",
    "\n",
    "weg_dre = weg_dre[['DT_REFER', 'VL_CONTA']]\n",
    "\n",
    "weg_dre"
   ]
  },
  {
   "cell_type": "code",
   "execution_count": 12,
   "id": "6248aa7e",
   "metadata": {},
   "outputs": [
    {
     "data": {
      "text/html": [
       "<div>\n",
       "<style scoped>\n",
       "    .dataframe tbody tr th:only-of-type {\n",
       "        vertical-align: middle;\n",
       "    }\n",
       "\n",
       "    .dataframe tbody tr th {\n",
       "        vertical-align: top;\n",
       "    }\n",
       "\n",
       "    .dataframe thead th {\n",
       "        text-align: right;\n",
       "    }\n",
       "</style>\n",
       "<table border=\"1\" class=\"dataframe\">\n",
       "  <thead>\n",
       "    <tr style=\"text-align: right;\">\n",
       "      <th></th>\n",
       "      <th>DT_REFER</th>\n",
       "      <th>VL_CONTA</th>\n",
       "    </tr>\n",
       "  </thead>\n",
       "  <tbody>\n",
       "    <tr>\n",
       "      <th>22814</th>\n",
       "      <td>2010-12-31</td>\n",
       "      <td>4391973.0</td>\n",
       "    </tr>\n",
       "    <tr>\n",
       "      <th>23721</th>\n",
       "      <td>2011-12-31</td>\n",
       "      <td>5189409.0</td>\n",
       "    </tr>\n",
       "    <tr>\n",
       "      <th>23379</th>\n",
       "      <td>2012-12-31</td>\n",
       "      <td>6173878.0</td>\n",
       "    </tr>\n",
       "    <tr>\n",
       "      <th>22975</th>\n",
       "      <td>2013-12-31</td>\n",
       "      <td>6828896.0</td>\n",
       "    </tr>\n",
       "    <tr>\n",
       "      <th>22612</th>\n",
       "      <td>2014-12-31</td>\n",
       "      <td>7840757.0</td>\n",
       "    </tr>\n",
       "    <tr>\n",
       "      <th>22410</th>\n",
       "      <td>2015-12-31</td>\n",
       "      <td>9760323.0</td>\n",
       "    </tr>\n",
       "    <tr>\n",
       "      <th>22497</th>\n",
       "      <td>2016-12-31</td>\n",
       "      <td>9367008.0</td>\n",
       "    </tr>\n",
       "    <tr>\n",
       "      <th>22381</th>\n",
       "      <td>2017-12-31</td>\n",
       "      <td>9523830.0</td>\n",
       "    </tr>\n",
       "    <tr>\n",
       "      <th>22209</th>\n",
       "      <td>2018-12-31</td>\n",
       "      <td>11970090.0</td>\n",
       "    </tr>\n",
       "    <tr>\n",
       "      <th>24766</th>\n",
       "      <td>2019-12-31</td>\n",
       "      <td>13347434.0</td>\n",
       "    </tr>\n",
       "    <tr>\n",
       "      <th>28485</th>\n",
       "      <td>2020-12-31</td>\n",
       "      <td>17469557.0</td>\n",
       "    </tr>\n",
       "    <tr>\n",
       "      <th>29053</th>\n",
       "      <td>2021-12-31</td>\n",
       "      <td>23563338.0</td>\n",
       "    </tr>\n",
       "  </tbody>\n",
       "</table>\n",
       "</div>"
      ],
      "text/plain": [
       "         DT_REFER    VL_CONTA\n",
       "22814  2010-12-31   4391973.0\n",
       "23721  2011-12-31   5189409.0\n",
       "23379  2012-12-31   6173878.0\n",
       "22975  2013-12-31   6828896.0\n",
       "22612  2014-12-31   7840757.0\n",
       "22410  2015-12-31   9760323.0\n",
       "22497  2016-12-31   9367008.0\n",
       "22381  2017-12-31   9523830.0\n",
       "22209  2018-12-31  11970090.0\n",
       "24766  2019-12-31  13347434.0\n",
       "28485  2020-12-31  17469557.0\n",
       "29053  2021-12-31  23563338.0"
      ]
     },
     "execution_count": 12,
     "metadata": {},
     "output_type": "execute_result"
    }
   ],
   "source": [
    "weg_dre"
   ]
  },
  {
   "cell_type": "code",
   "execution_count": null,
   "id": "8683a8dd",
   "metadata": {},
   "outputs": [],
   "source": []
  }
 ],
 "metadata": {
  "kernelspec": {
   "display_name": "Python 3 (ipykernel)",
   "language": "python",
   "name": "python3"
  },
  "language_info": {
   "codemirror_mode": {
    "name": "ipython",
    "version": 3
   },
   "file_extension": ".py",
   "mimetype": "text/x-python",
   "name": "python",
   "nbconvert_exporter": "python",
   "pygments_lexer": "ipython3",
   "version": "3.9.12"
  }
 },
 "nbformat": 4,
 "nbformat_minor": 5
}
