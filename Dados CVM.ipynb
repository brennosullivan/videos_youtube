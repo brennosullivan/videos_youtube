{
 "cells": [
  {
   "cell_type": "code",
   "execution_count": null,
   "id": "2086f7ac",
   "metadata": {},
   "outputs": [],
   "source": [
    "import pandas as pd\n",
    "import requests\n",
    "import os\n",
    "import zipfile\n",
    "from selenium import webdriver\n",
    "from selenium.webdriver.chrome.service import Service\n",
    "from webdriver_manager.chrome import ChromeDriverManager\n",
    "\n",
    "diretorio_atual = os.getcwd()\n",
    "os.chdir(f\"{diretorio_atual}/dados_cvm\")"
   ]
  },
  {
   "cell_type": "code",
   "execution_count": null,
   "id": "a9df7bb4",
   "metadata": {},
   "outputs": [],
   "source": [
    "anos = range(2010, 2023)\n",
    "\n",
    "url_base = \"https://dados.cvm.gov.br/dados/CIA_ABERTA/DOC/DFP/DADOS/\"\n",
    "\n",
    "for ano in anos:\n",
    "    \n",
    "    download = requests.get(url_base + f\"dfp_cia_aberta_{ano}.zip\")\n",
    "    \n",
    "    open(f\"dfp_cia_aberta_{ano}.zip\", \"wb\").write(download.content)"
   ]
  },
  {
   "cell_type": "code",
   "execution_count": null,
   "id": "2b906a52",
   "metadata": {},
   "outputs": [],
   "source": [
    "lista_demontracoes_2010_2022 = []\n",
    "\n",
    "diretorio_atual = os.getcwd()\n",
    "\n",
    "for arquivo in os.listdir(diretorio_atual):\n",
    "    \n",
    "    if arquivo == \".ipynb_checkpoints\":\n",
    "        \n",
    "        pass\n",
    "    \n",
    "    elif arquivo == '.env':\n",
    "        \n",
    "        pass\n",
    "    \n",
    "    else:\n",
    "        \n",
    "        arquivo_zip = zipfile.ZipFile(arquivo)\n",
    "        \n",
    "        for planilha in arquivo_zip.namelist():\n",
    "            \n",
    "            demonstracao = pd.read_csv(arquivo_zip.open(planilha), sep = \";\", encoding = 'ISO-8859-1',\n",
    "                                      dtype = {\"ORDEM_EXERC\": \"category\"})\n",
    "            \n",
    "            lista_demontracoes_2010_2022.append(demonstracao)\n",
    "            \n"
   ]
  },
  {
   "cell_type": "code",
   "execution_count": null,
   "id": "e3c879aa",
   "metadata": {},
   "outputs": [],
   "source": [
    "base_dados = pd.concat(lista_demontracoes_2010_2022)\n",
    "\n",
    "base_dados"
   ]
  },
  {
   "cell_type": "code",
   "execution_count": null,
   "id": "549fe96f",
   "metadata": {},
   "outputs": [],
   "source": [
    "base_dados"
   ]
  },
  {
   "cell_type": "code",
   "execution_count": null,
   "id": "6dc13374",
   "metadata": {},
   "outputs": [],
   "source": [
    "base_dados[['con_ind', 'tipo_dem']] = base_dados['GRUPO_DFP'].str.split(\"-\", expand = True)\n",
    "base_dados['con_ind'] = base_dados['con_ind'].str.strip()\n",
    "base_dados['tipo_dem'] = base_dados['tipo_dem'].str.strip()\n",
    "\n",
    "base_dados = base_dados[base_dados['ORDEM_EXERC'] != \"PENÚLTIMO\"]"
   ]
  },
  {
   "cell_type": "code",
   "execution_count": null,
   "id": "a8b3596a",
   "metadata": {},
   "outputs": [],
   "source": [
    "lista_dem = base_dados['tipo_dem'].unique()"
   ]
  },
  {
   "cell_type": "code",
   "execution_count": null,
   "id": "41674b21",
   "metadata": {},
   "outputs": [],
   "source": [
    "lista_empresas = base_dados['DENOM_CIA'].unique()"
   ]
  },
  {
   "cell_type": "code",
   "execution_count": null,
   "id": "31e4df98",
   "metadata": {},
   "outputs": [],
   "source": [
    "weg_dre = base_dados[(base_dados[\"DENOM_CIA\"] == \"WEG S.A.\") & \n",
    "                     (base_dados[\"tipo_dem\"] == \"Demonstração do Resultado\") &\n",
    "                    (base_dados[\"DS_CONTA\"] == \"Receita de Venda de Bens e/ou Serviços\") &\n",
    "                    (base_dados[\"con_ind\"] == \"DF Consolidado\")]\n",
    "\n",
    "weg_dre = weg_dre[['DT_REFER', 'VL_CONTA']]\n",
    "\n",
    "weg_dre"
   ]
  },
  {
   "cell_type": "code",
   "execution_count": null,
   "id": "8683a8dd",
   "metadata": {},
   "outputs": [],
   "source": []
  }
 ],
 "metadata": {
  "kernelspec": {
   "display_name": "Python 3 (ipykernel)",
   "language": "python",
   "name": "python3"
  },
  "language_info": {
   "codemirror_mode": {
    "name": "ipython",
    "version": 3
   },
   "file_extension": ".py",
   "mimetype": "text/x-python",
   "name": "python",
   "nbconvert_exporter": "python",
   "pygments_lexer": "ipython3",
   "version": "3.11.3"
  }
 },
 "nbformat": 4,
 "nbformat_minor": 5
}
