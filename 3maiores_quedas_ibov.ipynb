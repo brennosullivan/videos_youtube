{
 "cells": [
  {
   "cell_type": "code",
   "execution_count": 1,
   "metadata": {},
   "outputs": [],
   "source": [
    "import yfinance as yf\n",
    "import pandas as pd\n",
    "import numpy as np\n",
    "import matplotlib.pyplot as plt\n"
   ]
  },
  {
   "cell_type": "code",
   "execution_count": 2,
   "metadata": {},
   "outputs": [],
   "source": [
    "ibov_em_real = pd.read_excel('/home/brenno/Documentos/videos_youtube/dados_youtube/ibovespa_em_real.xlsx', na_values=\"-\")\n",
    "ibov_em_dolar = pd.read_excel('/home/brenno/Documentos/videos_youtube/dados_youtube/ibovespa_em_dolar.xlsx', na_values=\"-\")\n",
    "\n",
    "ibov_em_real = ibov_em_real.set_index('Data').dropna()\n",
    "ibov_em_real = ibov_em_real[ibov_em_real.index.year > 1994]\n",
    "ibov_em_real = ibov_em_real.astype(float)\n",
    "\n",
    "ibov_em_dolar = ibov_em_dolar.set_index('Data').dropna()\n",
    "ibov_em_dolar = ibov_em_dolar.astype(float)"
   ]
  },
  {
   "cell_type": "code",
   "execution_count": 3,
   "metadata": {},
   "outputs": [],
   "source": [
    "def puxando_3_maiores_quedas(df, periodo, moeda):\n",
    "\n",
    "    if periodo == \"diario\":\n",
    "      pass\n",
    "    \n",
    "    elif periodo == \"mensal\":\n",
    "\n",
    "        df = df.resample('M').last()\n",
    "\n",
    "    elif periodo == \"anual\":\n",
    "\n",
    "        df = df.resample('Y').last()\n",
    "    \n",
    "    else:\n",
    "        print('Digite um período válido')\n",
    "        return    \n",
    "    \n",
    "\n",
    "    var_df = df.pct_change()\n",
    "\n",
    "    tres_maiores_quedas = var_df.apply(lambda x: x.nsmallest(3))\n",
    "\n",
    "    tres_maiores_quedas.columns = [f'Maiores Quedas {periodo} em {moeda}']\n",
    "\n",
    "\n",
    "  \n",
    "    return tres_maiores_quedas\n"
   ]
  },
  {
   "cell_type": "code",
   "execution_count": 4,
   "metadata": {},
   "outputs": [
    {
     "data": {
      "text/plain": [
       "(            Maiores Quedas diario em real\n",
       " Data                                     \n",
       " 1998-09-10                      -0.158267\n",
       " 1997-10-27                      -0.149762\n",
       " 2020-03-12                      -0.147804,\n",
       "             Maiores Quedas diario em dolar\n",
       " Data                                      \n",
       " 1968-08-21                       -0.251515\n",
       " 1983-02-21                       -0.241237\n",
       " 1979-12-07                       -0.232783)"
      ]
     },
     "execution_count": 4,
     "metadata": {},
     "output_type": "execute_result"
    }
   ],
   "source": [
    "\n",
    "maiores_quedas_diarias_em_real = puxando_3_maiores_quedas(df = ibov_em_real, periodo=\"diario\", moeda= \"real\")\n",
    "maiores_quedas_diarias_em_dolar = puxando_3_maiores_quedas(df = ibov_em_dolar, periodo=\"diario\", moeda= \"dolar\")\n",
    "\n",
    "maiores_quedas_diarias_em_real, maiores_quedas_diarias_em_dolar\n",
    "\n",
    "#97 em real -> crise asiática e primeiro circuit breaker da história \n",
    "#98 em real -> Crise russa e governo eleva taxa selic de 29,75% para 49,75% ao ano pra tentar segurar dolares no Brasil\n",
    "#20 em real -> covid\n",
    "#CTA minicurso"
   ]
  },
  {
   "cell_type": "code",
   "execution_count": 5,
   "metadata": {},
   "outputs": [
    {
     "data": {
      "text/plain": [
       "(            Maiores Quedas mensal em real\n",
       " Data                                     \n",
       " 1998-08-31                      -0.395536\n",
       " 2020-03-31                      -0.299043\n",
       " 2008-10-31                      -0.247976,\n",
       "             Maiores Quedas mensal em dolar\n",
       " Data                                      \n",
       " 1990-03-31                       -0.694913\n",
       " 1989-06-30                       -0.558120\n",
       " 1998-08-31                       -0.402469)"
      ]
     },
     "execution_count": 5,
     "metadata": {},
     "output_type": "execute_result"
    }
   ],
   "source": [
    "maiores_quedas_mensais_em_real = puxando_3_maiores_quedas(df = ibov_em_real, periodo=\"mensal\", moeda= \"real\")\n",
    "maiores_quedas_mensais_em_dolar = puxando_3_maiores_quedas(df = ibov_em_dolar, periodo=\"mensal\", moeda= \"dolar\")\n",
    "\n",
    "maiores_quedas_mensais_em_real, maiores_quedas_mensais_em_dolar\n",
    "\n",
    "#março 1990 -> mes do confisco do color, ibovespa caiu 21% no dia do confisco, economia indo pro saco com anuncio do plano color. Foi traumatico nao só pra poupança. \n",
    "#junho 1989 -> quebra da bolsa do RJ"
   ]
  },
  {
   "cell_type": "code",
   "execution_count": 6,
   "metadata": {},
   "outputs": [
    {
     "data": {
      "text/plain": [
       "(            Maiores Quedas anual em real\n",
       " Data                                    \n",
       " 2008-12-31                     -0.412234\n",
       " 1998-12-31                     -0.334641\n",
       " 2011-12-31                     -0.181086,\n",
       "             Maiores Quedas anual em dolar\n",
       " Data                                     \n",
       " 2008-12-31                      -0.412234\n",
       " 1998-12-31                      -0.334641\n",
       " 2011-12-31                      -0.181086)"
      ]
     },
     "execution_count": 6,
     "metadata": {},
     "output_type": "execute_result"
    }
   ],
   "source": [
    "maiores_quedas_anual_em_real = puxando_3_maiores_quedas(df = ibov_em_real, periodo=\"anual\", moeda= \"real\")\n",
    "maiores_quedas_anual_em_dolar = puxando_3_maiores_quedas(df = ibov_em_real, periodo=\"anual\", moeda= \"dolar\")\n",
    "\n",
    "maiores_quedas_anual_em_real, maiores_quedas_anual_em_dolar"
   ]
  },
  {
   "cell_type": "code",
   "execution_count": 7,
   "metadata": {},
   "outputs": [
    {
     "data": {
      "text/plain": [
       "<AxesSubplot:xlabel='Data'>"
      ]
     },
     "execution_count": 7,
     "metadata": {},
     "output_type": "execute_result"
    },
    {
     "data": {
      "image/png": "[encoded data removed]",
      "text/plain": [
       "<Figure size 432x288 with 1 Axes>"
      ]
     },
     "metadata": {
      "needs_background": "light"
     },
     "output_type": "display_data"
    }
   ],
   "source": [
    "#volatlidade do ibov ao longo do tempo\n",
    "\n",
    "vol = ibov_em_dolar.pct_change().rolling(252).std()*(252**0.5)\n",
    "vol.plot()"
   ]
  },
  {
   "cell_type": "code",
   "execution_count": null,
   "metadata": {},
   "outputs": [],
   "source": [
    "#Querem um vídeo sobre as maiores altas? Posso fazer"
   ]
  },
  {
   "cell_type": "code",
   "execution_count": null,
   "metadata": {},
   "outputs": [],
   "source": []
  },
  {
   "cell_type": "code",
   "execution_count": null,
   "metadata": {},
   "outputs": [],
   "source": []
  },
  {
   "cell_type": "code",
   "execution_count": null,
   "metadata": {},
   "outputs": [],
   "source": []
  }
 ],
 "metadata": {
  "interpreter": {
   "hash": "916dbcbb3f70747c44a77c7bcd40155683ae19c65e1c03b4aa3499c5328201f1"
  },
  "kernelspec": {
   "display_name": "Python 3 (ipykernel)",
   "language": "python",
   "name": "python3"
  },
  "language_info": {
   "codemirror_mode": {
    "name": "ipython",
    "version": 3
   },
   "file_extension": ".py",
   "mimetype": "text/x-python",
   "name": "python",
   "nbconvert_exporter": "python",
   "pygments_lexer": "ipython3",
   "version": "3.8.10"
  }
 },
 "nbformat": 4,
 "nbformat_minor": 2
}
