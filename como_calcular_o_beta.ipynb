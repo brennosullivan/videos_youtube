{
 "cells": [
  {
   "cell_type": "code",
   "execution_count": null,
   "id": "a85b1dae",
   "metadata": {
    "scrolled": true
   },
   "outputs": [],
   "source": [
    "import yfinance as yf\n",
    "import statsmodels.api as sm\n",
    "from datetime import timedelta\n",
    "from datetime import datetime"
   ]
  },
  {
   "cell_type": "code",
   "execution_count": null,
   "id": "b8286679",
   "metadata": {
    "scrolled": true
   },
   "outputs": [],
   "source": [
    "ativos = [\"WEGE3.SA\", \"^BVSP\"]\n",
    "data = datetime.now()\n",
    "tres_anos_atras = data - timedelta(days = 1095)\n",
    "\n",
    "dados_cotacoes = yf.download(ativos, tres_anos_atras, data)['Adj Close']\n",
    "\n",
    "dados_cotacoes"
   ]
  },
  {
   "cell_type": "markdown",
   "id": "37deca3b",
   "metadata": {},
   "source": [
    "# CTA pro curso"
   ]
  },
  {
   "cell_type": "code",
   "execution_count": null,
   "id": "f1ce5bda",
   "metadata": {
    "scrolled": true
   },
   "outputs": [],
   "source": [
    "retornos_diarios = dados_cotacoes.pct_change().dropna()\n",
    "\n",
    "retornos_diarios"
   ]
  },
  {
   "cell_type": "markdown",
   "id": "97ccc9f0",
   "metadata": {},
   "source": [
    "## Calculando Beta"
   ]
  },
  {
   "cell_type": "code",
   "execution_count": null,
   "id": "91986e70",
   "metadata": {},
   "outputs": [],
   "source": [
    "X = retornos_diarios['^BVSP']\n",
    "Y = retornos_diarios[ativos[0]]\n",
    "X = sm.add_constant(X)\n",
    "model = sm.OLS(Y, X).fit()"
   ]
  },
  {
   "cell_type": "markdown",
   "id": "fcb883ec",
   "metadata": {},
   "source": [
    "# CTA pro like\n"
   ]
  },
  {
   "cell_type": "code",
   "execution_count": null,
   "id": "da59b719",
   "metadata": {},
   "outputs": [],
   "source": [
    "# Beta\n",
    "print(model.params[1])\n",
    "print(model.rsquared)\n",
    "print(\"---------------------------------------\")\n",
    "print(str(model.summary()))"
   ]
  },
  {
   "cell_type": "markdown",
   "id": "742fa2ed",
   "metadata": {},
   "source": [
    "# Não esquece de curtir e se inscrever no canal! \n",
    "\n",
    "## Minicurso de Python na descrição."
   ]
  },
  {
   "cell_type": "code",
   "execution_count": null,
   "id": "9ab45ce1",
   "metadata": {},
   "outputs": [],
   "source": []
  }
 ],
 "metadata": {
  "kernelspec": {
   "display_name": "Python 3 (ipykernel)",
   "language": "python",
   "name": "python3"
  },
  "language_info": {
   "codemirror_mode": {
    "name": "ipython",
    "version": 3
   },
   "file_extension": ".py",
   "mimetype": "text/x-python",
   "name": "python",
   "nbconvert_exporter": "python",
   "pygments_lexer": "ipython3",
   "version": "3.9.12"
  }
 },
 "nbformat": 4,
 "nbformat_minor": 5
}
