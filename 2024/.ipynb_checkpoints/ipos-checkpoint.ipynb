{
 "cells": [
  {
   "cell_type": "code",
   "execution_count": null,
   "id": "d3cca882",
   "metadata": {},
   "outputs": [],
   "source": [
    "import requests\n",
    "import pandas as pd\n",
    "import os\n",
    "import urllib.request\n",
    "from datetime import timedelta"
   ]
  },
  {
   "cell_type": "markdown",
   "id": "ac0d9ada",
   "metadata": {},
   "source": [
    "### Lista de ativos"
   ]
  },
  {
   "cell_type": "code",
   "execution_count": null,
   "id": "fea9daed",
   "metadata": {},
   "outputs": [],
   "source": [
    "caminho_dados='/home/brenno/Documentos/dados/base_dados_br_parquets'\n",
    "chave_api = 'descubra'\n",
    "headers = {'accept': 'application/json',\n",
    "                'X-API-Key': chave_api}\n",
    "os.chdir(caminho_dados)"
   ]
  },
  {
   "cell_type": "code",
   "execution_count": null,
   "id": "597fe60d",
   "metadata": {},
   "outputs": [],
   "source": [
    "response = requests.get(f'https://api.fintz.com.br/bolsa/b3/avista/busca',  \n",
    "                                        headers=headers)\n",
    "df = pd.DataFrame(response.json())\n",
    "df"
   ]
  },
  {
   "cell_type": "code",
   "execution_count": null,
   "id": "601072e1",
   "metadata": {},
   "outputs": [],
   "source": [
    "df[df['nome'].str.contains('RAIA')]"
   ]
  },
  {
   "cell_type": "code",
   "execution_count": null,
   "id": "a3228beb",
   "metadata": {},
   "outputs": [],
   "source": [
    "cotacoes = pd.read_parquet(\"/home/brenno/Documentos/dados/base_dados_br_parquets/cotacoes.parquet\")\n",
    "cotacoes['data'] = pd.to_datetime(cotacoes['data']).dt.date\n",
    "cotacoes['ticker'] = cotacoes['ticker'].astype(str)\n",
    "cotacoes = cotacoes.sort_values('data', ascending=True)\n",
    "cotacoes"
   ]
  },
  {
   "cell_type": "code",
   "execution_count": null,
   "id": "08f689fc",
   "metadata": {},
   "outputs": [],
   "source": [
    "cotacoes_com_nomes = pd.merge(df, cotacoes, on = 'ticker')\n",
    "cotacoes_com_nomes"
   ]
  },
  {
   "cell_type": "code",
   "execution_count": null,
   "id": "3250bb00",
   "metadata": {},
   "outputs": [],
   "source": [
    "cotacoes_com_nomes[cotacoes_com_nomes['nome'].str.contains('SEQUOIA LOG')]"
   ]
  },
  {
   "cell_type": "code",
   "execution_count": null,
   "id": "31a2996b",
   "metadata": {},
   "outputs": [],
   "source": [
    "ipos = pd.read_excel(\"/home/brenno/Documentos/dados/videos_youtube/2024/janeiro/IPOS.xlsx\")\n",
    "ipos = ipos[ipos['CLASSIFICAÇÃO'] == 'IPO']\n",
    "ipos = ipos[ipos['INÍCIO DE NEGOCIAÇÃO'] > \"2010-01-01\"]\n",
    "ipos = ipos[~ipos['LISTAGEM NA OFERTA'].str.contains('BDR')]\n",
    "ipos = ipos[['NOME DE PREGÃO', 'INÍCIO DE NEGOCIAÇÃO', 'PREÇO POR AÇÃO / UNIT / BDR (LÇTO.)4']]\n",
    "ipos.columns = ['nome', 'data', 'preco']\n",
    "ipos['nome'] = ipos['nome'].str.replace(\"¹\", \"\")\n",
    "ipos['nome'] = ipos['nome'].str.replace(\"²\", \"\")\n",
    "ipos"
   ]
  },
  {
   "cell_type": "code",
   "execution_count": null,
   "id": "83bc18f8",
   "metadata": {},
   "outputs": [],
   "source": [
    "lista_ipos = ipos['nome'].to_list()"
   ]
  },
  {
   "cell_type": "code",
   "execution_count": null,
   "id": "4485f6b3",
   "metadata": {},
   "outputs": [],
   "source": [
    "cotacoes_com_nomes = cotacoes_com_nomes[cotacoes_com_nomes['nome'].isin(lista_ipos)]\n",
    "cotacoes_com_nomes = cotacoes_com_nomes[cotacoes_com_nomes['nome'] != 'HRT PETROLEO']"
   ]
  },
  {
   "cell_type": "code",
   "execution_count": null,
   "id": "64362432",
   "metadata": {},
   "outputs": [],
   "source": [
    "df_retornos_ipos = pd.DataFrame(columns = ['retorno_12m', 'retorno_24m', 'retorno_36m',\n",
    "                                          'retorno_ibov_12m', 'retorno_ibov_24m', 'retorno_ibov_36m'], \n",
    "                                            index = lista_ipos)"
   ]
  },
  {
   "cell_type": "code",
   "execution_count": null,
   "id": "7d82eac4",
   "metadata": {},
   "outputs": [],
   "source": [
    "ibovespa = pd.read_parquet(\"ibov.parquet\")\n",
    "ibovespa['data'] = pd.to_datetime(ibovespa['data']).dt.date"
   ]
  },
  {
   "cell_type": "code",
   "execution_count": null,
   "id": "aedb8181",
   "metadata": {},
   "outputs": [],
   "source": [
    "for empresa in lista_ipos:\n",
    "    \n",
    "    preco_de_ipo = ipos[ipos['nome'] == empresa]['preco'].iloc[0]\n",
    "    cotacoes_empresa = cotacoes_com_nomes[cotacoes_com_nomes['nome'] == empresa]\n",
    "    if cotacoes_empresa.empty == False:\n",
    "        fator_de_ajuste = cotacoes_empresa['fator_ajuste'].iloc[0]\n",
    "        preco_ipo_ajustado = preco_de_ipo * fator_de_ajuste\n",
    "        data_inicial = cotacoes_empresa['data'].iloc[0]\n",
    "        meses_12 = data_inicial + timedelta(days = 365)\n",
    "        meses_24 = data_inicial + timedelta(days = 365 * 2)\n",
    "        meses_36 = data_inicial + timedelta(days = 365 * 3)\n",
    "\n",
    "        preco_12_meses = cotacoes_empresa[cotacoes_empresa['data'] < meses_12]['preco_fechamento_ajustado'].iloc[-1]\n",
    "        preco_24_meses = cotacoes_empresa[cotacoes_empresa['data'] < meses_24]['preco_fechamento_ajustado'].iloc[-1]\n",
    "        preco_36_meses = cotacoes_empresa[cotacoes_empresa['data'] < meses_36]['preco_fechamento_ajustado'].iloc[-1]\n",
    "\n",
    "        retorno_12m = preco_12_meses/preco_ipo_ajustado - 1\n",
    "        retorno_24m = preco_24_meses/preco_ipo_ajustado - 1\n",
    "        retorno_36m = preco_36_meses/preco_ipo_ajustado - 1\n",
    "\n",
    "        ibovespa_12m = ibovespa[(ibovespa['data'] >= data_inicial) & (ibovespa['data'] < meses_12)]\n",
    "        ibovespa_24m = ibovespa[(ibovespa['data'] >= data_inicial) & (ibovespa['data'] < meses_24)]\n",
    "        ibovespa_36m = ibovespa[(ibovespa['data'] >= data_inicial) & (ibovespa['data'] < meses_36)]\n",
    "\n",
    "        retorno_ibov_12m = ibovespa_12m['fechamento'].iloc[-1]/ibovespa_12m['fechamento'].iloc[0] - 1\n",
    "        retorno_ibov_24m = ibovespa_24m['fechamento'].iloc[-1]/ibovespa_24m['fechamento'].iloc[0] - 1\n",
    "        retorno_ibov_36m = ibovespa_36m['fechamento'].iloc[-1]/ibovespa_36m['fechamento'].iloc[0] - 1\n",
    "\n",
    "\n",
    "        df_retornos_ipos.loc[empresa] = [retorno_12m, retorno_24m, retorno_36m, \n",
    "                                         retorno_ibov_12m, retorno_ibov_24m, retorno_ibov_36m]  "
   ]
  },
  {
   "cell_type": "code",
   "execution_count": null,
   "id": "5cd63e1e",
   "metadata": {},
   "outputs": [],
   "source": [
    "df_retornos_ipos.loc[df_retornos_ipos['retorno_24m'] == df_retornos_ipos['retorno_12m'], 'retorno_24m'] = pd.NA\n",
    "df_retornos_ipos.loc[df_retornos_ipos['retorno_36m'] == df_retornos_ipos['retorno_24m'], 'retorno_36m'] = pd.NA\n",
    "df_retornos_ipos.loc[df_retornos_ipos['retorno_36m'] == df_retornos_ipos['retorno_12m'], 'retorno_36m'] = pd.NA"
   ]
  },
  {
   "cell_type": "code",
   "execution_count": null,
   "id": "4e2011a0",
   "metadata": {},
   "outputs": [],
   "source": [
    "df_retornos_ipos"
   ]
  },
  {
   "cell_type": "code",
   "execution_count": null,
   "id": "3cb5b99e",
   "metadata": {},
   "outputs": [],
   "source": [
    "df_retornos_ipos['maior_12'] = df_retornos_ipos['retorno_12m'] > df_retornos_ipos['retorno_ibov_12m']\n",
    "df_retornos_ipos['maior_24'] = df_retornos_ipos['retorno_24m'] > df_retornos_ipos['retorno_ibov_24m']\n",
    "df_retornos_ipos['maior_36'] = df_retornos_ipos['retorno_36m'] > df_retornos_ipos['retorno_ibov_36m']\n",
    "\n",
    "df_retorno_ibov = df_retornos_ipos[['maior_12', 'maior_24', 'maior_36']]"
   ]
  },
  {
   "cell_type": "code",
   "execution_count": null,
   "id": "26198064",
   "metadata": {},
   "outputs": [],
   "source": [
    "df_retornos_ipos.isna().sum()"
   ]
  },
  {
   "cell_type": "markdown",
   "id": "9b60a87c",
   "metadata": {},
   "source": [
    "# Análise de retornos "
   ]
  },
  {
   "cell_type": "code",
   "execution_count": null,
   "id": "43622cf0",
   "metadata": {},
   "outputs": [],
   "source": [
    "tabela_retornos_positivos = pd.DataFrame(columns = ['% da amostra'], index = ['12 meses', '24 meses', '36 meses'])\n",
    "tabela_retornos_acima_do_ibov = pd.DataFrame(columns = ['% da amostra'], index = ['12 meses', '24 meses', '36 meses'])\n",
    "empresas_com_maiores_retornos = pd.DataFrame(columns = ['Retorno', 'Empresa'], index = ['12 meses', '24 meses', '36 meses'])\n",
    "empresas_com_menores_retornos = pd.DataFrame(columns = ['Retorno', 'Empresa'], index = ['12 meses', '24 meses', '36 meses'])\n",
    "medias_e_medianas_de_retorno = pd.DataFrame(columns = ['Média', 'Mediana'], index = ['12 meses', '24 meses', '36 meses'])\n",
    "composição_da_oferta = pd.DataFrame(columns = ['Varejo', 'Institucional', 'Estrangeiros', 'Outros'], \n",
    "                                   index = ['12M > 0', '12M < 0', '24M > 0', '24M < 0', '36M > 0', '36M < 0'])"
   ]
  },
  {
   "cell_type": "code",
   "execution_count": null,
   "id": "1abc0562",
   "metadata": {},
   "outputs": [],
   "source": [
    "(df_retorno_ibov.sum()/len(df_retorno_ibov)).iloc[1]"
   ]
  },
  {
   "cell_type": "code",
   "execution_count": null,
   "id": "ad7dbd58",
   "metadata": {},
   "outputs": [],
   "source": [
    "tabela_retornos_acima_do_ibov.iloc[0, 0] = str(round((df_retorno_ibov.sum()/len(df_retorno_ibov)).iloc[0] * 100, 2)) + \"%\"\n",
    "tabela_retornos_acima_do_ibov.iloc[1, 0] = str(round((df_retorno_ibov.sum()/len(df_retorno_ibov)).iloc[1] * 100, 2)) + \"%\"\n",
    "tabela_retornos_acima_do_ibov.iloc[2, 0] = str(round((df_retorno_ibov.sum()/len(df_retorno_ibov)).iloc[2] * 100, 2)) + \"%\""
   ]
  },
  {
   "cell_type": "code",
   "execution_count": null,
   "id": "62c53adf",
   "metadata": {},
   "outputs": [],
   "source": [
    "meses = [12, 24, 36]\n",
    "\n",
    "for i, mes in enumerate(meses):\n",
    "\n",
    "    df_retornos_ipos_xm = df_retornos_ipos[f'retorno_{mes}m']\n",
    "    df_retornos_ipos_xm.dropna(inplace = True)\n",
    "    df_retornos_ipos_xm = df_retornos_ipos_xm.astype(float)\n",
    "    total_positivo = round((df_retornos_ipos_xm > 0).sum()/len(df_retornos_ipos_xm) * 100, 2) \n",
    "    \n",
    "    tabela_retornos_positivos.iloc[i, 0] = str(total_positivo) + '%'\n",
    "    \n",
    "    retorno = round(df_retornos_ipos_xm.max() * 100, 2)\n",
    "    empresa = df_retornos_ipos_xm.idxmax()\n",
    "    \n",
    "    empresas_com_maiores_retornos.iloc[i, 0] = retorno\n",
    "    empresas_com_maiores_retornos.iloc[i, 1] = empresa\n",
    "\n",
    "    retorno = round(df_retornos_ipos_xm.min() * 100, 2)\n",
    "    empresa = df_retornos_ipos_xm.idxmin()\n",
    "    \n",
    "    empresas_com_menores_retornos.iloc[i, 0] = retorno\n",
    "    empresas_com_menores_retornos.iloc[i, 1] = empresa"
   ]
  },
  {
   "cell_type": "code",
   "execution_count": null,
   "id": "03844130",
   "metadata": {},
   "outputs": [],
   "source": [
    "medias_e_medianas_de_retorno.iloc[0, 0] = str(round((df_retornos_ipos.mean().iloc[0] * 100), 2)) + \"%\"\n",
    "medias_e_medianas_de_retorno.iloc[0, 1] = str(round((df_retornos_ipos.median().iloc[0] * 100), 2)) + \"%\"\n",
    "medias_e_medianas_de_retorno.iloc[1, 0] = str(round((df_retornos_ipos.mean().iloc[1] * 100), 2)) + \"%\"\n",
    "medias_e_medianas_de_retorno.iloc[1, 1] = str(round((df_retornos_ipos.median().iloc[1] * 100), 2)) + \"%\"\n",
    "medias_e_medianas_de_retorno.iloc[2, 0] = str(round((df_retornos_ipos.mean().iloc[2] * 100), 2)) + \"%\"\n",
    "medias_e_medianas_de_retorno.iloc[2, 1] = str(round((df_retornos_ipos.median().iloc[2] * 100), 2)) + \"%\"\n",
    "\n",
    "display(medias_e_medianas_de_retorno)"
   ]
  },
  {
   "cell_type": "code",
   "execution_count": null,
   "id": "5fdbc135",
   "metadata": {},
   "outputs": [],
   "source": [
    "ipos_2 = pd.read_excel(\"/home/brenno/Documentos/dados/videos_youtube/2024/janeiro/IPOS.xlsx\")\n",
    "ipos_2 = ipos_2[ipos_2['CLASSIFICAÇÃO'] == 'IPO']\n",
    "ipos_2 = ipos_2[ipos_2['INÍCIO DE NEGOCIAÇÃO'] > \"2010-01-01\"]\n",
    "ipos_2 = ipos_2[~ipos_2['LISTAGEM NA OFERTA'].str.contains('BDR')]\n",
    "ipos_2"
   ]
  },
  {
   "cell_type": "code",
   "execution_count": null,
   "id": "e7355eda",
   "metadata": {},
   "outputs": [],
   "source": [
    "ofertas_12m_maior_que_zero = df_retornos_ipos[df_retornos_ipos['retorno_12m'] > 0].index\n",
    "comp_ofertas_12m_maior_que_zero = ipos_2[ipos_2['NOME DE PREGÃO'].isin(ofertas_12m_maior_que_zero)]\n",
    "comp_ofertas_12m_maior_que_zero = comp_ofertas_12m_maior_que_zero[['VAREJO', 'INSTITUCIONAL', \n",
    "                                                                   'ESTRANGEIROS', 'OUTROS']]\n",
    "composição_da_oferta.loc['12M > 0'] = [str(x) + \"%\" for x in round(comp_ofertas_12m_maior_que_zero.mean() * 100, 2).to_list()]\n",
    "\n",
    "ofertas_12m_maior_que_zero = df_retornos_ipos[df_retornos_ipos['retorno_12m'] < 0].index\n",
    "comp_ofertas_12m_maior_que_zero = ipos_2[ipos_2['NOME DE PREGÃO'].isin(ofertas_12m_maior_que_zero)]\n",
    "comp_ofertas_12m_maior_que_zero = comp_ofertas_12m_maior_que_zero[['VAREJO', 'INSTITUCIONAL', \n",
    "                                                                   'ESTRANGEIROS', 'OUTROS']]\n",
    "composição_da_oferta.loc['12M < 0'] = [str(x) + \"%\" for x in round(comp_ofertas_12m_maior_que_zero.mean() * 100, 2).to_list()]\n",
    "\n",
    "ofertas_12m_maior_que_zero = df_retornos_ipos[df_retornos_ipos['retorno_24m'] > 0].index\n",
    "comp_ofertas_12m_maior_que_zero = ipos_2[ipos_2['NOME DE PREGÃO'].isin(ofertas_12m_maior_que_zero)]\n",
    "comp_ofertas_12m_maior_que_zero = comp_ofertas_12m_maior_que_zero[['VAREJO', 'INSTITUCIONAL', \n",
    "                                                                   'ESTRANGEIROS', 'OUTROS']]\n",
    "composição_da_oferta.loc['24M > 0'] = [str(x) + \"%\" for x in round(comp_ofertas_12m_maior_que_zero.mean() * 100, 2).to_list()]\n",
    "\n",
    "ofertas_12m_maior_que_zero = df_retornos_ipos[df_retornos_ipos['retorno_24m'] < 0].index\n",
    "comp_ofertas_12m_maior_que_zero = ipos_2[ipos_2['NOME DE PREGÃO'].isin(ofertas_12m_maior_que_zero)]\n",
    "comp_ofertas_12m_maior_que_zero = comp_ofertas_12m_maior_que_zero[['VAREJO', 'INSTITUCIONAL', \n",
    "                                                                   'ESTRANGEIROS', 'OUTROS']]\n",
    "composição_da_oferta.loc['24M < 0'] = [str(x) + \"%\" for x in round(comp_ofertas_12m_maior_que_zero.mean() * 100, 2).to_list()]\n",
    "\n",
    "ofertas_12m_maior_que_zero = df_retornos_ipos[df_retornos_ipos['retorno_36m'] > 0].index\n",
    "comp_ofertas_12m_maior_que_zero = ipos_2[ipos_2['NOME DE PREGÃO'].isin(ofertas_12m_maior_que_zero)]\n",
    "comp_ofertas_12m_maior_que_zero = comp_ofertas_12m_maior_que_zero[['VAREJO', 'INSTITUCIONAL', \n",
    "                                                                   'ESTRANGEIROS', 'OUTROS']]\n",
    "composição_da_oferta.loc['36M > 0'] = [str(x) + \"%\" for x in round(comp_ofertas_12m_maior_que_zero.mean() * 100, 2).to_list()]\n",
    "\n",
    "ofertas_12m_maior_que_zero = df_retornos_ipos[df_retornos_ipos['retorno_36m'] < 0].index\n",
    "comp_ofertas_12m_maior_que_zero = ipos_2[ipos_2['NOME DE PREGÃO'].isin(ofertas_12m_maior_que_zero)]\n",
    "comp_ofertas_12m_maior_que_zero = comp_ofertas_12m_maior_que_zero[['VAREJO', 'INSTITUCIONAL', \n",
    "                                                                   'ESTRANGEIROS', 'OUTROS']]\n",
    "composição_da_oferta.loc['36M < 0'] = [str(x) + \"%\" for x in round(comp_ofertas_12m_maior_que_zero.mean() * 100, 2).to_list()]\n",
    "\n",
    "composição_da_oferta"
   ]
  },
  {
   "cell_type": "code",
   "execution_count": null,
   "id": "ff40fdf1",
   "metadata": {},
   "outputs": [],
   "source": []
  },
  {
   "cell_type": "markdown",
   "id": "b2ee2ed3",
   "metadata": {},
   "source": [
    "# Relatório de IPOs\n",
    "\n",
    "### 126 empresas fizeram IPO desde 2010.\n",
    "\n",
    "<br>\n",
    "Das 126 empresas:\n",
    "\n",
    "* 7 não apresentaram dados de 12 meses após IPO.\n",
    "* 10 não apresentaram dados de 24 meses após IPO.\n",
    "* 16 não apresentaram após de 36 meses após IPO.\n",
    "\n",
    "# Fonte dos dados:\n",
    "\n",
    "- Base de dados da Varos\n",
    "- B3\n",
    "\n",
    "### Investindo em evidências"
   ]
  },
  {
   "cell_type": "markdown",
   "id": "a40a7119",
   "metadata": {},
   "source": [
    "## % das empresas com retorno positivo"
   ]
  },
  {
   "cell_type": "code",
   "execution_count": null,
   "id": "9b1ad502",
   "metadata": {},
   "outputs": [],
   "source": [
    "tabela_retornos_positivos"
   ]
  },
  {
   "cell_type": "markdown",
   "id": "ee134f20",
   "metadata": {},
   "source": [
    "## % das empresas que superaram o ibovespa:"
   ]
  },
  {
   "cell_type": "code",
   "execution_count": null,
   "id": "dad739f0",
   "metadata": {},
   "outputs": [],
   "source": [
    "tabela_retornos_acima_do_ibov"
   ]
  },
  {
   "cell_type": "markdown",
   "id": "62c2bb20",
   "metadata": {},
   "source": [
    "## Empresas com maiores e menores retornos"
   ]
  },
  {
   "cell_type": "code",
   "execution_count": null,
   "id": "054584a7",
   "metadata": {},
   "outputs": [],
   "source": [
    "display(empresas_com_maiores_retornos)\n",
    "empresas_com_menores_retornos"
   ]
  },
  {
   "cell_type": "markdown",
   "id": "bf0e963c",
   "metadata": {},
   "source": [
    "## Médias e medianas de retorno"
   ]
  },
  {
   "cell_type": "code",
   "execution_count": null,
   "id": "41029990",
   "metadata": {},
   "outputs": [],
   "source": [
    "medias_e_medianas_de_retorno"
   ]
  },
  {
   "cell_type": "markdown",
   "id": "d41be613",
   "metadata": {},
   "source": [
    "## Composição das ofertas"
   ]
  },
  {
   "cell_type": "code",
   "execution_count": null,
   "id": "8ce7a446",
   "metadata": {},
   "outputs": [],
   "source": [
    "composição_da_oferta"
   ]
  }
 ],
 "metadata": {
  "kernelspec": {
   "display_name": "Python 3 (ipykernel)",
   "language": "python",
   "name": "python3"
  },
  "language_info": {
   "codemirror_mode": {
    "name": "ipython",
    "version": 3
   },
   "file_extension": ".py",
   "mimetype": "text/x-python",
   "name": "python",
   "nbconvert_exporter": "python",
   "pygments_lexer": "ipython3",
   "version": "3.8.10"
  }
 },
 "nbformat": 4,
 "nbformat_minor": 5
}
