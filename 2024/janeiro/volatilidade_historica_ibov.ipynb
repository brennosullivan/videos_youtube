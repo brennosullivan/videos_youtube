{
 "cells": [
  {
   "cell_type": "markdown",
   "id": "bb530b11",
   "metadata": {},
   "source": [
    "O que eu preciso (seria incrível se fizesse hoje, porque eu tenho que entregar a aula para os editores amanhã de manhã):\n",
    "\n",
    "Volatilidade anual (desvio padrão dos retornos percentuais diários dos últimos 12 meses * raiz de 252) de cada ação do ibovespa de 2010 pra cá (pode fazer rolling e a gente calcula a média a cada dia)\n",
    "Histograma das volatilidades anuais em alguns anos"
   ]
  },
  {
   "cell_type": "code",
   "execution_count": null,
   "id": "a8ed744c",
   "metadata": {},
   "outputs": [],
   "source": [
    "import pandas as pd\n",
    "import numpy as np"
   ]
  },
  {
   "cell_type": "code",
   "execution_count": null,
   "id": "9c886e7d",
   "metadata": {},
   "outputs": [],
   "source": [
    "cotacoes = pd.read_parquet('/home/brenno/Documentos/dados/base_dados_br_parquets/cotacoes.parquet')\n",
    "comp_ibov = pd.read_csv('/home/brenno/Documentos/dados/base_dados_br_parquets/comp_ibov.csv')\n",
    "cotacoes"
   ]
  },
  {
   "cell_type": "code",
   "execution_count": null,
   "id": "971e0f0d",
   "metadata": {},
   "outputs": [],
   "source": [
    "lista_ibov = comp_ibov['codigo'].to_list()"
   ]
  },
  {
   "cell_type": "code",
   "execution_count": null,
   "id": "e912e688",
   "metadata": {},
   "outputs": [],
   "source": [
    "#cotacoes = cotacoes[cotacoes['ticker'].isin(lista_ibov)]\n",
    "cotacoes = cotacoes[['data', 'preco_fechamento_ajustado', 'ticker', 'quantidade_negocios']]"
   ]
  },
  {
   "cell_type": "code",
   "execution_count": null,
   "id": "4fb483f4",
   "metadata": {},
   "outputs": [],
   "source": [
    "cotacoes_pivotadas = cotacoes.pivot_table(values = 'preco_fechamento_ajustado', columns = 'ticker', index = 'data')"
   ]
  },
  {
   "cell_type": "code",
   "execution_count": null,
   "id": "961a0464",
   "metadata": {},
   "outputs": [],
   "source": [
    "cotacoes_pivotadas = cotacoes_pivotadas.pct_change()\n",
    "cotacoes_pivotadas = cotacoes_pivotadas.rolling(252).std() * np.sqrt(252)"
   ]
  },
  {
   "cell_type": "code",
   "execution_count": null,
   "id": "e32b1c12",
   "metadata": {
    "scrolled": false
   },
   "outputs": [],
   "source": [
    "acoes = cotacoes_pivotadas.groupby(cotacoes_pivotadas.index.year).mean()\n",
    "#acoes.loc[2014, 'KLBN11'] = pd.NA\n",
    "acoes"
   ]
  },
  {
   "cell_type": "code",
   "execution_count": null,
   "id": "762c90f2",
   "metadata": {},
   "outputs": [],
   "source": [
    "acoes.to_excel('dados_vol.xlsx')"
   ]
  },
  {
   "cell_type": "code",
   "execution_count": null,
   "id": "37dda621",
   "metadata": {},
   "outputs": [],
   "source": [
    "acoes.mean(axis = 1)"
   ]
  },
  {
   "cell_type": "code",
   "execution_count": null,
   "id": "fc742b0c",
   "metadata": {},
   "outputs": [],
   "source": [
    "pd.set_option('display.max_columns', None)"
   ]
  },
  {
   "cell_type": "code",
   "execution_count": null,
   "id": "5252ced9",
   "metadata": {},
   "outputs": [],
   "source": [
    "acoes[acoes > 2].dropna(how = 'all', axis = 1)"
   ]
  },
  {
   "cell_type": "code",
   "execution_count": null,
   "id": "bb53a067",
   "metadata": {},
   "outputs": [],
   "source": [
    "cotacoes = cotacoes.set_index('data')"
   ]
  },
  {
   "cell_type": "code",
   "execution_count": null,
   "id": "bfa6b1df",
   "metadata": {},
   "outputs": [],
   "source": [
    "cotacoes[cotacoes['ticker'] == 'VIVR3']['preco_fechamento_ajustado'].plot()"
   ]
  },
  {
   "cell_type": "code",
   "execution_count": null,
   "id": "4a5860ce",
   "metadata": {},
   "outputs": [],
   "source": [
    "cotacoes"
   ]
  },
  {
   "cell_type": "code",
   "execution_count": null,
   "id": "c4cf9ac0",
   "metadata": {},
   "outputs": [],
   "source": []
  }
 ],
 "metadata": {
  "kernelspec": {
   "display_name": "Python 3 (ipykernel)",
   "language": "python",
   "name": "python3"
  },
  "language_info": {
   "codemirror_mode": {
    "name": "ipython",
    "version": 3
   },
   "file_extension": ".py",
   "mimetype": "text/x-python",
   "name": "python",
   "nbconvert_exporter": "python",
   "pygments_lexer": "ipython3",
   "version": "3.8.10"
  }
 },
 "nbformat": 4,
 "nbformat_minor": 5
}
