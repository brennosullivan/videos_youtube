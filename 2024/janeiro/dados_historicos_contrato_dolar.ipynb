{
 "cells": [
  {
   "cell_type": "markdown",
   "id": "d71153c4",
   "metadata": {},
   "source": [
    "# Como pegar dados históricos de mini contrato de dólar"
   ]
  },
  {
   "cell_type": "code",
   "execution_count": null,
   "id": "156bb2b5",
   "metadata": {},
   "outputs": [],
   "source": [
    "import pandas as pd\n",
    "from selenium import webdriver\n",
    "from selenium.webdriver.chrome.service import Service\n",
    "from webdriver_manager.chrome import ChromeDriverManager\n",
    "from selenium.webdriver.chrome.options import Options\n",
    "import time \n",
    "from datetime import datetime"
   ]
  },
  {
   "cell_type": "markdown",
   "id": "296d6988",
   "metadata": {},
   "source": [
    "## URL DA B3\n",
    "\n",
    "https://www2.bmf.com.br/pages/portal/bmfbovespa/boletim1/SistemaPregao1.asp"
   ]
  },
  {
   "cell_type": "code",
   "execution_count": null,
   "id": "d1dcc430",
   "metadata": {},
   "outputs": [],
   "source": [
    "driver = webdriver.Chrome(service=Service(ChromeDriverManager().install())) "
   ]
  },
  {
   "cell_type": "code",
   "execution_count": null,
   "id": "9d341eca",
   "metadata": {},
   "outputs": [],
   "source": [
    "data_contratos = '12/04/2023'"
   ]
  },
  {
   "cell_type": "code",
   "execution_count": null,
   "id": "d1a8b3f1",
   "metadata": {},
   "outputs": [],
   "source": [
    "url = f'''\n",
    "https://www2.bmf.com.br/pages/portal/bmfbovespa/boletim1/SistemaPregao1.asp?\n",
    "pagetype=pop&caminho=Resumo%20Estat%EDstico%20-%20Sistema%20Preg%E3o&Data={data_contratos}&Mercadoria=WDO\n",
    "'''"
   ]
  },
  {
   "cell_type": "code",
   "execution_count": null,
   "id": "a0b4531f",
   "metadata": {},
   "outputs": [],
   "source": [
    "driver.get(url)\n",
    "\n",
    "time.sleep(3)\n",
    "\n",
    "local_tabela = '''\n",
    "/html/body/div/div[2]/form[1]/table[3]/tbody/tr[3]/td[3]/table\n",
    "'''\n",
    "\n",
    "local_indice = '''\n",
    "/html/body/div/div[2]/form[1]/table[3]/tbody/tr[3]/td[1]/table\n",
    "'''\n",
    "\n",
    "elemento = driver.find_element(\"xpath\", local_tabela)\n",
    "\n",
    "elemento_indice = driver.find_element(\"xpath\", local_indice)\n",
    "\n",
    "html_tabela = elemento.get_attribute('outerHTML')\n",
    "html_indice = elemento_indice.get_attribute('outerHTML')\n",
    "\n",
    "tabela = pd.read_html(html_tabela)[0]\n",
    "indice = pd.read_html(html_indice)[0]\n",
    "\n",
    "driver.quit()"
   ]
  },
  {
   "cell_type": "code",
   "execution_count": null,
   "id": "efd58a91",
   "metadata": {},
   "outputs": [],
   "source": [
    "tabela.columns = tabela.loc[0]\n",
    "tabela = tabela['AJUSTE']\n",
    "tabela = tabela.drop(0, axis = 0)\n",
    "indice.columns = indice.loc[0]\n",
    "indice_dolar = indice['VENCTO']\n",
    "indice = indice.drop(0, axis = 0)\n",
    "tabela.index = indice['VENCTO']\n",
    "tabela = tabela[tabela != \"0\"]\n",
    "\n",
    "print(tabela)"
   ]
  },
  {
   "cell_type": "code",
   "execution_count": null,
   "id": "dd3da469",
   "metadata": {},
   "outputs": [],
   "source": [
    "legenda = pd.Series(['Jan', 'Feb', 'Mar', 'Apr', 'May', 'Jun', 'Jul', 'Aug', 'Sep', 'Oct', 'Nov', 'Dec'],\n",
    "                    index = ['F', 'G', 'H', 'J', 'K', 'M', 'N', 'Q', 'U', 'V', 'X', 'Z'])\n",
    "\n",
    "lista_datas = []\n",
    "\n",
    "for indice in tabela.index:\n",
    "\n",
    "    letra = indice[0]\n",
    "    ano = indice[1:3]\n",
    "\n",
    "    mes = legenda[letra]\n",
    "\n",
    "    data = f\"{mes}-{ano}\"\n",
    "\n",
    "    data = datetime.strptime(data, \"%b-%y\")\n",
    "\n",
    "    lista_datas.append(data)\n",
    "\n",
    "\n",
    "tabela.index = lista_datas  \n",
    "tabela"
   ]
  },
  {
   "cell_type": "code",
   "execution_count": null,
   "id": "2fb36c3a",
   "metadata": {},
   "outputs": [],
   "source": []
  },
  {
   "cell_type": "code",
   "execution_count": null,
   "id": "0e35a831",
   "metadata": {},
   "outputs": [],
   "source": []
  },
  {
   "cell_type": "code",
   "execution_count": null,
   "id": "6f54db22",
   "metadata": {},
   "outputs": [],
   "source": []
  },
  {
   "cell_type": "code",
   "execution_count": null,
   "id": "2ef93595",
   "metadata": {},
   "outputs": [],
   "source": []
  },
  {
   "cell_type": "code",
   "execution_count": null,
   "id": "699a0d8d",
   "metadata": {},
   "outputs": [],
   "source": []
  },
  {
   "cell_type": "code",
   "execution_count": null,
   "id": "83971fe1",
   "metadata": {},
   "outputs": [],
   "source": []
  }
 ],
 "metadata": {
  "kernelspec": {
   "display_name": "Python 3 (ipykernel)",
   "language": "python",
   "name": "python3"
  },
  "language_info": {
   "codemirror_mode": {
    "name": "ipython",
    "version": 3
   },
   "file_extension": ".py",
   "mimetype": "text/x-python",
   "name": "python",
   "nbconvert_exporter": "python",
   "pygments_lexer": "ipython3",
   "version": "3.8.10"
  }
 },
 "nbformat": 4,
 "nbformat_minor": 5
}
