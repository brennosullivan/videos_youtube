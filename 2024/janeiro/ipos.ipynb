{
 "cells": [
  {
   "cell_type": "code",
   "execution_count": null,
   "id": "bfffc2f8",
   "metadata": {},
   "outputs": [],
   "source": [
    "import requests\n",
    "import pandas as pd\n",
    "import os\n",
    "import urllib.request\n",
    "from datetime import timedelta"
   ]
  },
  {
   "cell_type": "markdown",
   "id": "aba19cc7",
   "metadata": {},
   "source": [
    "### Lista de ativos"
   ]
  },
  {
   "cell_type": "code",
   "execution_count": null,
   "id": "3ca6bf12",
   "metadata": {},
   "outputs": [],
   "source": [
    "caminho_dados='/home/brenno/Documentos/dados/base_dados_br_parquets'\n",
    "chave_api = 'descubra'\n",
    "headers = {'accept': 'application/json',\n",
    "                'X-API-Key': chave_api}\n",
    "os.chdir(caminho_dados)"
   ]
  },
  {
   "cell_type": "code",
   "execution_count": null,
   "id": "cc1e3ccc",
   "metadata": {},
   "outputs": [],
   "source": [
    "response = requests.get(f'https://api.fintz.com.br/bolsa/b3/avista/busca',  \n",
    "                                        headers=headers)\n",
    "df = pd.DataFrame(response.json())\n",
    "df"
   ]
  },
  {
   "cell_type": "code",
   "execution_count": null,
   "id": "4347408b",
   "metadata": {},
   "outputs": [],
   "source": [
    "df[df['nome'].str.contains('RAIA')]"
   ]
  },
  {
   "cell_type": "code",
   "execution_count": null,
   "id": "0531ceab",
   "metadata": {},
   "outputs": [],
   "source": [
    "cotacoes = pd.read_parquet(\"/home/brenno/Documentos/dados/base_dados_br_parquets/cotacoes.parquet\")\n",
    "cotacoes['data'] = pd.to_datetime(cotacoes['data']).dt.date\n",
    "cotacoes['ticker'] = cotacoes['ticker'].astype(str)\n",
    "cotacoes = cotacoes.sort_values('data', ascending=True)\n",
    "cotacoes"
   ]
  },
  {
   "cell_type": "code",
   "execution_count": null,
   "id": "8dcf70b9",
   "metadata": {},
   "outputs": [],
   "source": [
    "cotacoes_com_nomes = pd.merge(df, cotacoes, on = 'ticker')\n",
    "cotacoes_com_nomes"
   ]
  },
  {
   "cell_type": "code",
   "execution_count": null,
   "id": "0678188b",
   "metadata": {},
   "outputs": [],
   "source": [
    "cotacoes_com_nomes[cotacoes_com_nomes['nome'].str.contains('SEQUOIA LOG')]"
   ]
  },
  {
   "cell_type": "code",
   "execution_count": null,
   "id": "5e187c66",
   "metadata": {},
   "outputs": [],
   "source": [
    "ipos = pd.read_excel(\"/home/brenno/Documentos/dados/videos_youtube/2024/janeiro/IPOS.xlsx\")\n",
    "ipos = ipos[ipos['CLASSIFICAÇÃO'] == 'IPO']\n",
    "ipos = ipos[ipos['INÍCIO DE NEGOCIAÇÃO'] > \"2010-01-01\"]\n",
    "ipos = ipos[~ipos['LISTAGEM NA OFERTA'].str.contains('BDR')]\n",
    "ipos = ipos[['NOME DE PREGÃO', 'INÍCIO DE NEGOCIAÇÃO', 'PREÇO POR AÇÃO / UNIT / BDR (LÇTO.)4']]\n",
    "ipos.columns = ['nome', 'data', 'preco']\n",
    "ipos['nome'] = ipos['nome'].str.replace(\"¹\", \"\")\n",
    "ipos['nome'] = ipos['nome'].str.replace(\"²\", \"\")\n",
    "ipos"
   ]
  },
  {
   "cell_type": "code",
   "execution_count": null,
   "id": "86434d20",
   "metadata": {},
   "outputs": [],
   "source": [
    "lista_ipos = ipos['nome'].to_list()"
   ]
  },
  {
   "cell_type": "code",
   "execution_count": null,
   "id": "0fc2824f",
   "metadata": {},
   "outputs": [],
   "source": [
    "cotacoes_com_nomes = cotacoes_com_nomes[cotacoes_com_nomes['nome'].isin(lista_ipos)]\n",
    "cotacoes_com_nomes = cotacoes_com_nomes[cotacoes_com_nomes['nome'] != 'HRT PETROLEO']"
   ]
  },
  {
   "cell_type": "code",
   "execution_count": null,
   "id": "4167a620",
   "metadata": {},
   "outputs": [],
   "source": [
    "df_retornos_ipos = pd.DataFrame(columns = ['retorno_12m', 'retorno_24m', 'retorno_36m',\n",
    "                                          'retorno_ibov_12m', 'retorno_ibov_24m', 'retorno_ibov_36m'], \n",
    "                                            index = lista_ipos)"
   ]
  },
  {
   "cell_type": "code",
   "execution_count": null,
   "id": "be4427cd",
   "metadata": {},
   "outputs": [],
   "source": [
    "ibovespa = pd.read_parquet(\"ibov.parquet\")\n",
    "ibovespa['data'] = pd.to_datetime(ibovespa['data']).dt.date"
   ]
  },
  {
   "cell_type": "code",
   "execution_count": null,
   "id": "4a4f1b76",
   "metadata": {},
   "outputs": [],
   "source": [
    "for empresa in lista_ipos:\n",
    "    \n",
    "    preco_de_ipo = ipos[ipos['nome'] == empresa]['preco'].iloc[0]\n",
    "    cotacoes_empresa = cotacoes_com_nomes[cotacoes_com_nomes['nome'] == empresa]\n",
    "    if cotacoes_empresa.empty == False:\n",
    "        fator_de_ajuste = cotacoes_empresa['fator_ajuste'].iloc[0]\n",
    "        preco_ipo_ajustado = preco_de_ipo * fator_de_ajuste\n",
    "        data_inicial = cotacoes_empresa['data'].iloc[0]\n",
    "        meses_12 = data_inicial + timedelta(days = 365)\n",
    "        meses_24 = data_inicial + timedelta(days = 365 * 2)\n",
    "        meses_36 = data_inicial + timedelta(days = 365 * 3)\n",
    "\n",
    "        preco_12_meses = cotacoes_empresa[cotacoes_empresa['data'] < meses_12]['preco_fechamento_ajustado'].iloc[-1]\n",
    "        preco_24_meses = cotacoes_empresa[cotacoes_empresa['data'] < meses_24]['preco_fechamento_ajustado'].iloc[-1]\n",
    "        preco_36_meses = cotacoes_empresa[cotacoes_empresa['data'] < meses_36]['preco_fechamento_ajustado'].iloc[-1]\n",
    "\n",
    "        retorno_12m = preco_12_meses/preco_ipo_ajustado - 1\n",
    "        retorno_24m = preco_24_meses/preco_ipo_ajustado - 1\n",
    "        retorno_36m = preco_36_meses/preco_ipo_ajustado - 1\n",
    "\n",
    "        ibovespa_12m = ibovespa[(ibovespa['data'] >= data_inicial) & (ibovespa['data'] < meses_12)]\n",
    "        ibovespa_24m = ibovespa[(ibovespa['data'] >= data_inicial) & (ibovespa['data'] < meses_24)]\n",
    "        ibovespa_36m = ibovespa[(ibovespa['data'] >= data_inicial) & (ibovespa['data'] < meses_36)]\n",
    "\n",
    "        retorno_ibov_12m = ibovespa_12m['fechamento'].iloc[-1]/ibovespa_12m['fechamento'].iloc[0] - 1\n",
    "        retorno_ibov_24m = ibovespa_24m['fechamento'].iloc[-1]/ibovespa_24m['fechamento'].iloc[0] - 1\n",
    "        retorno_ibov_36m = ibovespa_36m['fechamento'].iloc[-1]/ibovespa_36m['fechamento'].iloc[0] - 1\n",
    "\n",
    "\n",
    "        df_retornos_ipos.loc[empresa] = [retorno_12m, retorno_24m, retorno_36m, \n",
    "                                         retorno_ibov_12m, retorno_ibov_24m, retorno_ibov_36m]  "
   ]
  },
  {
   "cell_type": "code",
   "execution_count": null,
   "id": "e33c51aa",
   "metadata": {},
   "outputs": [],
   "source": [
    "df_retornos_ipos.loc[df_retornos_ipos['retorno_24m'] == df_retornos_ipos['retorno_12m'], 'retorno_24m'] = pd.NA\n",
    "df_retornos_ipos.loc[df_retornos_ipos['retorno_36m'] == df_retornos_ipos['retorno_24m'], 'retorno_36m'] = pd.NA\n",
    "df_retornos_ipos.loc[df_retornos_ipos['retorno_36m'] == df_retornos_ipos['retorno_12m'], 'retorno_36m'] = pd.NA"
   ]
  },
  {
   "cell_type": "code",
   "execution_count": null,
   "id": "f1951f90",
   "metadata": {},
   "outputs": [],
   "source": [
    "df_retornos_ipos"
   ]
  },
  {
   "cell_type": "code",
   "execution_count": null,
   "id": "86374cfc",
   "metadata": {},
   "outputs": [],
   "source": [
    "df_retornos_ipos['maior_12'] = df_retornos_ipos['retorno_12m'] > df_retornos_ipos['retorno_ibov_12m']\n",
    "df_retornos_ipos['maior_24'] = df_retornos_ipos['retorno_24m'] > df_retornos_ipos['retorno_ibov_24m']\n",
    "df_retornos_ipos['maior_36'] = df_retornos_ipos['retorno_36m'] > df_retornos_ipos['retorno_ibov_36m']\n",
    "\n",
    "df_retorno_ibov = df_retornos_ipos[['maior_12', 'maior_24', 'maior_36']]"
   ]
  },
  {
   "cell_type": "code",
   "execution_count": null,
   "id": "f2e0d5bd",
   "metadata": {},
   "outputs": [],
   "source": [
    "df_retornos_ipos.isna().sum()"
   ]
  },
  {
   "cell_type": "markdown",
   "id": "8e99db20",
   "metadata": {},
   "source": [
    "# Análise de retornos "
   ]
  },
  {
   "cell_type": "code",
   "execution_count": null,
   "id": "fa2e7ca6",
   "metadata": {},
   "outputs": [],
   "source": [
    "tabela_retornos_positivos = pd.DataFrame(columns = ['% da amostra'], index = ['12 meses', '24 meses', '36 meses'])\n",
    "tabela_retornos_acima_do_ibov = pd.DataFrame(columns = ['% da amostra'], index = ['12 meses', '24 meses', '36 meses'])\n",
    "empresas_com_maiores_retornos = pd.DataFrame(columns = ['Retorno', 'Empresa'], index = ['12 meses', '24 meses', '36 meses'])\n",
    "empresas_com_menores_retornos = pd.DataFrame(columns = ['Retorno', 'Empresa'], index = ['12 meses', '24 meses', '36 meses'])\n",
    "medias_e_medianas_de_retorno = pd.DataFrame(columns = ['Média', 'Mediana'], index = ['12 meses', '24 meses', '36 meses'])\n",
    "composição_da_oferta = pd.DataFrame(columns = ['Varejo', 'Institucional', 'Estrangeiros', 'Outros'], \n",
    "                                   index = ['12M > 0', '12M < 0', '24M > 0', '24M < 0', '36M > 0', '36M < 0'])"
   ]
  },
  {
   "cell_type": "code",
   "execution_count": null,
   "id": "22b6bfda",
   "metadata": {},
   "outputs": [],
   "source": [
    "(df_retorno_ibov.sum()/len(df_retorno_ibov)).iloc[1]"
   ]
  },
  {
   "cell_type": "code",
   "execution_count": null,
   "id": "f20cdc3e",
   "metadata": {},
   "outputs": [],
   "source": [
    "tabela_retornos_acima_do_ibov.iloc[0, 0] = str(round((df_retorno_ibov.sum()/len(df_retorno_ibov)).iloc[0] * 100, 2)) + \"%\"\n",
    "tabela_retornos_acima_do_ibov.iloc[1, 0] = str(round((df_retorno_ibov.sum()/len(df_retorno_ibov)).iloc[1] * 100, 2)) + \"%\"\n",
    "tabela_retornos_acima_do_ibov.iloc[2, 0] = str(round((df_retorno_ibov.sum()/len(df_retorno_ibov)).iloc[2] * 100, 2)) + \"%\""
   ]
  },
  {
   "cell_type": "code",
   "execution_count": null,
   "id": "a534b39c",
   "metadata": {},
   "outputs": [],
   "source": [
    "meses = [12, 24, 36]\n",
    "\n",
    "for i, mes in enumerate(meses):\n",
    "\n",
    "    df_retornos_ipos_xm = df_retornos_ipos[f'retorno_{mes}m']\n",
    "    df_retornos_ipos_xm.dropna(inplace = True)\n",
    "    df_retornos_ipos_xm = df_retornos_ipos_xm.astype(float)\n",
    "    total_positivo = round((df_retornos_ipos_xm > 0).sum()/len(df_retornos_ipos_xm) * 100, 2) \n",
    "    \n",
    "    tabela_retornos_positivos.iloc[i, 0] = str(total_positivo) + '%'\n",
    "    \n",
    "    retorno = round(df_retornos_ipos_xm.max() * 100, 2)\n",
    "    empresa = df_retornos_ipos_xm.idxmax()\n",
    "    \n",
    "    empresas_com_maiores_retornos.iloc[i, 0] = retorno\n",
    "    empresas_com_maiores_retornos.iloc[i, 1] = empresa\n",
    "\n",
    "    retorno = round(df_retornos_ipos_xm.min() * 100, 2)\n",
    "    empresa = df_retornos_ipos_xm.idxmin()\n",
    "    \n",
    "    empresas_com_menores_retornos.iloc[i, 0] = retorno\n",
    "    empresas_com_menores_retornos.iloc[i, 1] = empresa"
   ]
  },
  {
   "cell_type": "code",
   "execution_count": null,
   "id": "9b29c923",
   "metadata": {},
   "outputs": [],
   "source": [
    "medias_e_medianas_de_retorno.iloc[0, 0] = str(round((df_retornos_ipos.mean().iloc[0] * 100), 2)) + \"%\"\n",
    "medias_e_medianas_de_retorno.iloc[0, 1] = str(round((df_retornos_ipos.median().iloc[0] * 100), 2)) + \"%\"\n",
    "medias_e_medianas_de_retorno.iloc[1, 0] = str(round((df_retornos_ipos.mean().iloc[1] * 100), 2)) + \"%\"\n",
    "medias_e_medianas_de_retorno.iloc[1, 1] = str(round((df_retornos_ipos.median().iloc[1] * 100), 2)) + \"%\"\n",
    "medias_e_medianas_de_retorno.iloc[2, 0] = str(round((df_retornos_ipos.mean().iloc[2] * 100), 2)) + \"%\"\n",
    "medias_e_medianas_de_retorno.iloc[2, 1] = str(round((df_retornos_ipos.median().iloc[2] * 100), 2)) + \"%\"\n",
    "\n",
    "display(medias_e_medianas_de_retorno)"
   ]
  },
  {
   "cell_type": "code",
   "execution_count": null,
   "id": "d8b19554",
   "metadata": {},
   "outputs": [],
   "source": [
    "ipos_2 = pd.read_excel(\"/home/brenno/Documentos/dados/videos_youtube/2024/janeiro/IPOS.xlsx\")\n",
    "ipos_2 = ipos_2[ipos_2['CLASSIFICAÇÃO'] == 'IPO']\n",
    "ipos_2 = ipos_2[ipos_2['INÍCIO DE NEGOCIAÇÃO'] > \"2010-01-01\"]\n",
    "ipos_2 = ipos_2[~ipos_2['LISTAGEM NA OFERTA'].str.contains('BDR')]\n",
    "ipos_2"
   ]
  },
  {
   "cell_type": "code",
   "execution_count": null,
   "id": "a8332f49",
   "metadata": {},
   "outputs": [],
   "source": [
    "ofertas_12m_maior_que_zero = df_retornos_ipos[df_retornos_ipos['retorno_12m'] > 0].index\n",
    "comp_ofertas_12m_maior_que_zero = ipos_2[ipos_2['NOME DE PREGÃO'].isin(ofertas_12m_maior_que_zero)]\n",
    "comp_ofertas_12m_maior_que_zero = comp_ofertas_12m_maior_que_zero[['VAREJO', 'INSTITUCIONAL', \n",
    "                                                                   'ESTRANGEIROS', 'OUTROS']]\n",
    "composição_da_oferta.loc['12M > 0'] = [str(x) + \"%\" for x in round(comp_ofertas_12m_maior_que_zero.mean() * 100, 2).to_list()]\n",
    "\n",
    "ofertas_12m_maior_que_zero = df_retornos_ipos[df_retornos_ipos['retorno_12m'] < 0].index\n",
    "comp_ofertas_12m_maior_que_zero = ipos_2[ipos_2['NOME DE PREGÃO'].isin(ofertas_12m_maior_que_zero)]\n",
    "comp_ofertas_12m_maior_que_zero = comp_ofertas_12m_maior_que_zero[['VAREJO', 'INSTITUCIONAL', \n",
    "                                                                   'ESTRANGEIROS', 'OUTROS']]\n",
    "composição_da_oferta.loc['12M < 0'] = [str(x) + \"%\" for x in round(comp_ofertas_12m_maior_que_zero.mean() * 100, 2).to_list()]\n",
    "\n",
    "ofertas_12m_maior_que_zero = df_retornos_ipos[df_retornos_ipos['retorno_24m'] > 0].index\n",
    "comp_ofertas_12m_maior_que_zero = ipos_2[ipos_2['NOME DE PREGÃO'].isin(ofertas_12m_maior_que_zero)]\n",
    "comp_ofertas_12m_maior_que_zero = comp_ofertas_12m_maior_que_zero[['VAREJO', 'INSTITUCIONAL', \n",
    "                                                                   'ESTRANGEIROS', 'OUTROS']]\n",
    "composição_da_oferta.loc['24M > 0'] = [str(x) + \"%\" for x in round(comp_ofertas_12m_maior_que_zero.mean() * 100, 2).to_list()]\n",
    "\n",
    "ofertas_12m_maior_que_zero = df_retornos_ipos[df_retornos_ipos['retorno_24m'] < 0].index\n",
    "comp_ofertas_12m_maior_que_zero = ipos_2[ipos_2['NOME DE PREGÃO'].isin(ofertas_12m_maior_que_zero)]\n",
    "comp_ofertas_12m_maior_que_zero = comp_ofertas_12m_maior_que_zero[['VAREJO', 'INSTITUCIONAL', \n",
    "                                                                   'ESTRANGEIROS', 'OUTROS']]\n",
    "composição_da_oferta.loc['24M < 0'] = [str(x) + \"%\" for x in round(comp_ofertas_12m_maior_que_zero.mean() * 100, 2).to_list()]\n",
    "\n",
    "ofertas_12m_maior_que_zero = df_retornos_ipos[df_retornos_ipos['retorno_36m'] > 0].index\n",
    "comp_ofertas_12m_maior_que_zero = ipos_2[ipos_2['NOME DE PREGÃO'].isin(ofertas_12m_maior_que_zero)]\n",
    "comp_ofertas_12m_maior_que_zero = comp_ofertas_12m_maior_que_zero[['VAREJO', 'INSTITUCIONAL', \n",
    "                                                                   'ESTRANGEIROS', 'OUTROS']]\n",
    "composição_da_oferta.loc['36M > 0'] = [str(x) + \"%\" for x in round(comp_ofertas_12m_maior_que_zero.mean() * 100, 2).to_list()]\n",
    "\n",
    "ofertas_12m_maior_que_zero = df_retornos_ipos[df_retornos_ipos['retorno_36m'] < 0].index\n",
    "comp_ofertas_12m_maior_que_zero = ipos_2[ipos_2['NOME DE PREGÃO'].isin(ofertas_12m_maior_que_zero)]\n",
    "comp_ofertas_12m_maior_que_zero = comp_ofertas_12m_maior_que_zero[['VAREJO', 'INSTITUCIONAL', \n",
    "                                                                   'ESTRANGEIROS', 'OUTROS']]\n",
    "composição_da_oferta.loc['36M < 0'] = [str(x) + \"%\" for x in round(comp_ofertas_12m_maior_que_zero.mean() * 100, 2).to_list()]\n",
    "\n",
    "composição_da_oferta"
   ]
  },
  {
   "cell_type": "code",
   "execution_count": null,
   "id": "71da0324",
   "metadata": {},
   "outputs": [],
   "source": []
  },
  {
   "cell_type": "markdown",
   "id": "0b9dddfe",
   "metadata": {},
   "source": [
    "# Relatório de IPOs\n",
    "\n",
    "### 126 empresas fizeram IPO desde 2010.\n",
    "\n",
    "<br>\n",
    "Das 126 empresas:\n",
    "\n",
    "* 7 não apresentaram dados de 12 meses após IPO.\n",
    "* 10 não apresentaram dados de 24 meses após IPO.\n",
    "* 16 não apresentaram após de 36 meses após IPO.\n",
    "\n",
    "# Fonte dos dados:\n",
    "\n",
    "- Base de dados da Varos\n",
    "- B3\n",
    "\n",
    "### Investindo em evidências"
   ]
  },
  {
   "cell_type": "markdown",
   "id": "e55b8878",
   "metadata": {},
   "source": [
    "## % das empresas com retorno positivo"
   ]
  },
  {
   "cell_type": "code",
   "execution_count": 199,
   "id": "066150b9",
   "metadata": {},
   "outputs": [
    {
     "data": {
      "text/html": [
       "<div>\n",
       "<style scoped>\n",
       "    .dataframe tbody tr th:only-of-type {\n",
       "        vertical-align: middle;\n",
       "    }\n",
       "\n",
       "    .dataframe tbody tr th {\n",
       "        vertical-align: top;\n",
       "    }\n",
       "\n",
       "    .dataframe thead th {\n",
       "        text-align: right;\n",
       "    }\n",
       "</style>\n",
       "<table border=\"1\" class=\"dataframe\">\n",
       "  <thead>\n",
       "    <tr style=\"text-align: right;\">\n",
       "      <th></th>\n",
       "      <th>% da amostra</th>\n",
       "    </tr>\n",
       "  </thead>\n",
       "  <tbody>\n",
       "    <tr>\n",
       "      <th>12 meses</th>\n",
       "      <td>47.06%</td>\n",
       "    </tr>\n",
       "    <tr>\n",
       "      <th>24 meses</th>\n",
       "      <td>40.52%</td>\n",
       "    </tr>\n",
       "    <tr>\n",
       "      <th>36 meses</th>\n",
       "      <td>40.0%</td>\n",
       "    </tr>\n",
       "  </tbody>\n",
       "</table>\n",
       "</div>"
      ],
      "text/plain": [
       "         % da amostra\n",
       "12 meses       47.06%\n",
       "24 meses       40.52%\n",
       "36 meses        40.0%"
      ]
     },
     "execution_count": 199,
     "metadata": {},
     "output_type": "execute_result"
    }
   ],
   "source": [
    "tabela_retornos_positivos"
   ]
  },
  {
   "cell_type": "markdown",
   "id": "7aef21d9",
   "metadata": {},
   "source": [
    "## % das empresas que superaram o ibovespa:"
   ]
  },
  {
   "cell_type": "code",
   "execution_count": 200,
   "id": "5e56d0b8",
   "metadata": {},
   "outputs": [
    {
     "data": {
      "text/html": [
       "<div>\n",
       "<style scoped>\n",
       "    .dataframe tbody tr th:only-of-type {\n",
       "        vertical-align: middle;\n",
       "    }\n",
       "\n",
       "    .dataframe tbody tr th {\n",
       "        vertical-align: top;\n",
       "    }\n",
       "\n",
       "    .dataframe thead th {\n",
       "        text-align: right;\n",
       "    }\n",
       "</style>\n",
       "<table border=\"1\" class=\"dataframe\">\n",
       "  <thead>\n",
       "    <tr style=\"text-align: right;\">\n",
       "      <th></th>\n",
       "      <th>% da amostra</th>\n",
       "    </tr>\n",
       "  </thead>\n",
       "  <tbody>\n",
       "    <tr>\n",
       "      <th>12 meses</th>\n",
       "      <td>44.44%</td>\n",
       "    </tr>\n",
       "    <tr>\n",
       "      <th>24 meses</th>\n",
       "      <td>37.3%</td>\n",
       "    </tr>\n",
       "    <tr>\n",
       "      <th>36 meses</th>\n",
       "      <td>33.33%</td>\n",
       "    </tr>\n",
       "  </tbody>\n",
       "</table>\n",
       "</div>"
      ],
      "text/plain": [
       "         % da amostra\n",
       "12 meses       44.44%\n",
       "24 meses        37.3%\n",
       "36 meses       33.33%"
      ]
     },
     "execution_count": 200,
     "metadata": {},
     "output_type": "execute_result"
    }
   ],
   "source": [
    "tabela_retornos_acima_do_ibov"
   ]
  },
  {
   "cell_type": "markdown",
   "id": "0054b03f",
   "metadata": {},
   "source": [
    "## Empresas com maiores e menores retornos"
   ]
  },
  {
   "cell_type": "code",
   "execution_count": 201,
   "id": "a0c18dcb",
   "metadata": {},
   "outputs": [
    {
     "data": {
      "text/html": [
       "<div>\n",
       "<style scoped>\n",
       "    .dataframe tbody tr th:only-of-type {\n",
       "        vertical-align: middle;\n",
       "    }\n",
       "\n",
       "    .dataframe tbody tr th {\n",
       "        vertical-align: top;\n",
       "    }\n",
       "\n",
       "    .dataframe thead th {\n",
       "        text-align: right;\n",
       "    }\n",
       "</style>\n",
       "<table border=\"1\" class=\"dataframe\">\n",
       "  <thead>\n",
       "    <tr style=\"text-align: right;\">\n",
       "      <th></th>\n",
       "      <th>Retorno</th>\n",
       "      <th>Empresa</th>\n",
       "    </tr>\n",
       "  </thead>\n",
       "  <tbody>\n",
       "    <tr>\n",
       "      <th>12 meses</th>\n",
       "      <td>573.2</td>\n",
       "      <td>LOCAWEB</td>\n",
       "    </tr>\n",
       "    <tr>\n",
       "      <th>24 meses</th>\n",
       "      <td>274.95</td>\n",
       "      <td>IRBBRASIL RE</td>\n",
       "    </tr>\n",
       "    <tr>\n",
       "      <th>36 meses</th>\n",
       "      <td>413.1</td>\n",
       "      <td>INTERMEDICA</td>\n",
       "    </tr>\n",
       "  </tbody>\n",
       "</table>\n",
       "</div>"
      ],
      "text/plain": [
       "         Retorno       Empresa\n",
       "12 meses   573.2       LOCAWEB\n",
       "24 meses  274.95  IRBBRASIL RE\n",
       "36 meses   413.1   INTERMEDICA"
      ]
     },
     "metadata": {},
     "output_type": "display_data"
    },
    {
     "data": {
      "text/html": [
       "<div>\n",
       "<style scoped>\n",
       "    .dataframe tbody tr th:only-of-type {\n",
       "        vertical-align: middle;\n",
       "    }\n",
       "\n",
       "    .dataframe tbody tr th {\n",
       "        vertical-align: top;\n",
       "    }\n",
       "\n",
       "    .dataframe thead th {\n",
       "        text-align: right;\n",
       "    }\n",
       "</style>\n",
       "<table border=\"1\" class=\"dataframe\">\n",
       "  <thead>\n",
       "    <tr style=\"text-align: right;\">\n",
       "      <th></th>\n",
       "      <th>Retorno</th>\n",
       "      <th>Empresa</th>\n",
       "    </tr>\n",
       "  </thead>\n",
       "  <tbody>\n",
       "    <tr>\n",
       "      <th>12 meses</th>\n",
       "      <td>-84.6</td>\n",
       "      <td>MODALMAIS</td>\n",
       "    </tr>\n",
       "    <tr>\n",
       "      <th>24 meses</th>\n",
       "      <td>-93.19</td>\n",
       "      <td>INFRACOMM</td>\n",
       "    </tr>\n",
       "    <tr>\n",
       "      <th>36 meses</th>\n",
       "      <td>-95.89</td>\n",
       "      <td>SEQUOIA LOG</td>\n",
       "    </tr>\n",
       "  </tbody>\n",
       "</table>\n",
       "</div>"
      ],
      "text/plain": [
       "         Retorno      Empresa\n",
       "12 meses   -84.6    MODALMAIS\n",
       "24 meses  -93.19    INFRACOMM\n",
       "36 meses  -95.89  SEQUOIA LOG"
      ]
     },
     "execution_count": 201,
     "metadata": {},
     "output_type": "execute_result"
    }
   ],
   "source": [
    "display(empresas_com_maiores_retornos)\n",
    "empresas_com_menores_retornos"
   ]
  },
  {
   "cell_type": "markdown",
   "id": "9d006770",
   "metadata": {},
   "source": [
    "## Médias e medianas de retorno"
   ]
  },
  {
   "cell_type": "code",
   "execution_count": 202,
   "id": "6fbdf8ba",
   "metadata": {},
   "outputs": [
    {
     "data": {
      "text/html": [
       "<div>\n",
       "<style scoped>\n",
       "    .dataframe tbody tr th:only-of-type {\n",
       "        vertical-align: middle;\n",
       "    }\n",
       "\n",
       "    .dataframe tbody tr th {\n",
       "        vertical-align: top;\n",
       "    }\n",
       "\n",
       "    .dataframe thead th {\n",
       "        text-align: right;\n",
       "    }\n",
       "</style>\n",
       "<table border=\"1\" class=\"dataframe\">\n",
       "  <thead>\n",
       "    <tr style=\"text-align: right;\">\n",
       "      <th></th>\n",
       "      <th>Média</th>\n",
       "      <th>Mediana</th>\n",
       "    </tr>\n",
       "  </thead>\n",
       "  <tbody>\n",
       "    <tr>\n",
       "      <th>12 meses</th>\n",
       "      <td>6.78%</td>\n",
       "      <td>-4.88%</td>\n",
       "    </tr>\n",
       "    <tr>\n",
       "      <th>24 meses</th>\n",
       "      <td>-2.08%</td>\n",
       "      <td>-23.86%</td>\n",
       "    </tr>\n",
       "    <tr>\n",
       "      <th>36 meses</th>\n",
       "      <td>-0.29%</td>\n",
       "      <td>-23.01%</td>\n",
       "    </tr>\n",
       "  </tbody>\n",
       "</table>\n",
       "</div>"
      ],
      "text/plain": [
       "           Média  Mediana\n",
       "12 meses   6.78%   -4.88%\n",
       "24 meses  -2.08%  -23.86%\n",
       "36 meses  -0.29%  -23.01%"
      ]
     },
     "execution_count": 202,
     "metadata": {},
     "output_type": "execute_result"
    }
   ],
   "source": [
    "medias_e_medianas_de_retorno"
   ]
  },
  {
   "cell_type": "markdown",
   "id": "23d6578a",
   "metadata": {},
   "source": [
    "## Composição das ofertas"
   ]
  },
  {
   "cell_type": "code",
   "execution_count": 203,
   "id": "05bba877",
   "metadata": {},
   "outputs": [
    {
     "data": {
      "text/html": [
       "<div>\n",
       "<style scoped>\n",
       "    .dataframe tbody tr th:only-of-type {\n",
       "        vertical-align: middle;\n",
       "    }\n",
       "\n",
       "    .dataframe tbody tr th {\n",
       "        vertical-align: top;\n",
       "    }\n",
       "\n",
       "    .dataframe thead th {\n",
       "        text-align: right;\n",
       "    }\n",
       "</style>\n",
       "<table border=\"1\" class=\"dataframe\">\n",
       "  <thead>\n",
       "    <tr style=\"text-align: right;\">\n",
       "      <th></th>\n",
       "      <th>Varejo</th>\n",
       "      <th>Institucional</th>\n",
       "      <th>Estrangeiros</th>\n",
       "      <th>Outros</th>\n",
       "    </tr>\n",
       "  </thead>\n",
       "  <tbody>\n",
       "    <tr>\n",
       "      <th>12M &gt; 0</th>\n",
       "      <td>7.95%</td>\n",
       "      <td>38.63%</td>\n",
       "      <td>47.26%</td>\n",
       "      <td>6.24%</td>\n",
       "    </tr>\n",
       "    <tr>\n",
       "      <th>12M &lt; 0</th>\n",
       "      <td>10.14%</td>\n",
       "      <td>53.93%</td>\n",
       "      <td>30.86%</td>\n",
       "      <td>3.11%</td>\n",
       "    </tr>\n",
       "    <tr>\n",
       "      <th>24M &gt; 0</th>\n",
       "      <td>7.81%</td>\n",
       "      <td>40.28%</td>\n",
       "      <td>45.85%</td>\n",
       "      <td>6.46%</td>\n",
       "    </tr>\n",
       "    <tr>\n",
       "      <th>24M &lt; 0</th>\n",
       "      <td>9.54%</td>\n",
       "      <td>51.31%</td>\n",
       "      <td>33.8%</td>\n",
       "      <td>3.39%</td>\n",
       "    </tr>\n",
       "    <tr>\n",
       "      <th>36M &gt; 0</th>\n",
       "      <td>8.06%</td>\n",
       "      <td>41.94%</td>\n",
       "      <td>42.79%</td>\n",
       "      <td>6.07%</td>\n",
       "    </tr>\n",
       "    <tr>\n",
       "      <th>36M &lt; 0</th>\n",
       "      <td>8.87%</td>\n",
       "      <td>50.39%</td>\n",
       "      <td>36.72%</td>\n",
       "      <td>3.97%</td>\n",
       "    </tr>\n",
       "  </tbody>\n",
       "</table>\n",
       "</div>"
      ],
      "text/plain": [
       "         Varejo Institucional Estrangeiros Outros\n",
       "12M > 0   7.95%        38.63%       47.26%  6.24%\n",
       "12M < 0  10.14%        53.93%       30.86%  3.11%\n",
       "24M > 0   7.81%        40.28%       45.85%  6.46%\n",
       "24M < 0   9.54%        51.31%        33.8%  3.39%\n",
       "36M > 0   8.06%        41.94%       42.79%  6.07%\n",
       "36M < 0   8.87%        50.39%       36.72%  3.97%"
      ]
     },
     "execution_count": 203,
     "metadata": {},
     "output_type": "execute_result"
    }
   ],
   "source": [
    "composição_da_oferta"
   ]
  },
  {
   "cell_type": "code",
   "execution_count": null,
   "id": "78943a70",
   "metadata": {},
   "outputs": [],
   "source": []
  }
 ],
 "metadata": {
  "kernelspec": {
   "display_name": "Python 3 (ipykernel)",
   "language": "python",
   "name": "python3"
  },
  "language_info": {
   "codemirror_mode": {
    "name": "ipython",
    "version": 3
   },
   "file_extension": ".py",
   "mimetype": "text/x-python",
   "name": "python",
   "nbconvert_exporter": "python",
   "pygments_lexer": "ipython3",
   "version": "3.8.10"
  }
 },
 "nbformat": 4,
 "nbformat_minor": 5
}
