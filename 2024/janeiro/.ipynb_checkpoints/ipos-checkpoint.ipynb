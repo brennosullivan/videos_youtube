{
 "cells": [
  {
   "cell_type": "code",
   "execution_count": null,
   "id": "bfffc2f8",
   "metadata": {},
   "outputs": [],
   "source": [
    "import requests\n",
    "import pandas as pd\n",
    "import os\n",
    "import urllib.request\n",
    "from datetime import timedelta"
   ]
  },
  {
   "cell_type": "markdown",
   "id": "aba19cc7",
   "metadata": {},
   "source": [
    "### Lista de ativos"
   ]
  },
  {
   "cell_type": "code",
   "execution_count": null,
   "id": "3ca6bf12",
   "metadata": {},
   "outputs": [],
   "source": [
    "caminho_dados= r'C:\\Users\\lsiqu\\dev\\base_dados_br'\n",
    "chave_api = '-'\n",
    "headers = {'accept': 'application/json',\n",
    "                'X-API-Key': chave_api}\n",
    "os.chdir(caminho_dados)"
   ]
  },
  {
   "cell_type": "code",
   "execution_count": null,
   "id": "cc1e3ccc",
   "metadata": {},
   "outputs": [],
   "source": [
    "response = requests.get(f'https://api.fintz.com.br/bolsa/b3/avista/busca',  \n",
    "                                        headers=headers)\n",
    "df = pd.DataFrame(response.json())\n",
    "df"
   ]
  },
  {
   "cell_type": "code",
   "execution_count": null,
   "id": "4347408b",
   "metadata": {},
   "outputs": [],
   "source": [
    "df[df['nome'].str.contains('RAIA')]"
   ]
  },
  {
   "cell_type": "code",
   "execution_count": null,
   "id": "0531ceab",
   "metadata": {},
   "outputs": [],
   "source": [
    "cotacoes = pd.read_parquet(r\"C:\\Users\\lsiqu\\dev\\base_dados_br\\cotacoes.parquet\")\n",
    "cotacoes['data'] = pd.to_datetime(cotacoes['data']).dt.date\n",
    "cotacoes['ticker'] = cotacoes['ticker'].astype(str)\n",
    "cotacoes = cotacoes.sort_values('data', ascending=True)\n",
    "cotacoes"
   ]
  },
  {
   "cell_type": "code",
   "execution_count": null,
   "id": "8dcf70b9",
   "metadata": {},
   "outputs": [],
   "source": [
    "cotacoes_com_nomes = pd.merge(df, cotacoes, on = 'ticker')\n",
    "cotacoes_com_nomes"
   ]
  },
  {
   "cell_type": "code",
   "execution_count": null,
   "id": "5e187c66",
   "metadata": {},
   "outputs": [],
   "source": [
    "ipos = pd.read_excel(\"IPOS.xlsx\")\n",
    "ipos = ipos[ipos['CLASSIFICAÇÃO'] == 'IPO']\n",
    "ipos = ipos[ipos['INÍCIO DE NEGOCIAÇÃO'] > \"2010-01-01\"]\n",
    "ipos = ipos[~ipos['LISTAGEM NA OFERTA'].str.contains('BDR')]\n",
    "ipos = ipos[['NOME DE PREGÃO', 'INÍCIO DE NEGOCIAÇÃO', 'PREÇO POR AÇÃO / UNIT / BDR (LÇTO.)4']]\n",
    "ipos.columns = ['nome', 'data', 'preco']\n",
    "ipos['nome'] = ipos['nome'].str.replace(\"¹\", \"\")\n",
    "ipos['nome'] = ipos['nome'].str.replace(\"²\", \"\")\n",
    "ipos"
   ]
  },
  {
   "cell_type": "code",
   "execution_count": null,
   "id": "86434d20",
   "metadata": {},
   "outputs": [],
   "source": [
    "lista_ipos = ipos['nome'].to_list()"
   ]
  },
  {
   "cell_type": "code",
   "execution_count": null,
   "id": "0fc2824f",
   "metadata": {},
   "outputs": [],
   "source": [
    "cotacoes_com_nomes = cotacoes_com_nomes[cotacoes_com_nomes['nome'].isin(lista_ipos)]\n",
    "cotacoes_com_nomes = cotacoes_com_nomes[cotacoes_com_nomes['nome'] != 'HRT PETROLEO']"
   ]
  },
  {
   "cell_type": "code",
   "execution_count": null,
   "id": "4167a620",
   "metadata": {},
   "outputs": [],
   "source": [
    "df_retornos_ipos = pd.DataFrame(columns = ['retorno_12m', 'retorno_24m', 'retorno_36m',\n",
    "                                          'retorno_ibov_12m', 'retorno_ibov_24m', 'retorno_ibov_36m'], \n",
    "                                            index = lista_ipos)"
   ]
  },
  {
   "cell_type": "code",
   "execution_count": null,
   "id": "be4427cd",
   "metadata": {},
   "outputs": [],
   "source": [
    "ibovespa = pd.read_parquet(\"ibov.parquet\")\n",
    "ibovespa['data'] = pd.to_datetime(ibovespa['data']).dt.date"
   ]
  },
  {
   "cell_type": "code",
   "execution_count": null,
   "id": "4a4f1b76",
   "metadata": {},
   "outputs": [],
   "source": [
    "for empresa in lista_ipos:\n",
    "    \n",
    "    preco_de_ipo = ipos[ipos['nome'] == empresa]['preco'].iloc[0]\n",
    "    cotacoes_empresa = cotacoes_com_nomes[cotacoes_com_nomes['nome'] == empresa]\n",
    "    if cotacoes_empresa.empty == False:\n",
    "        fator_de_ajuste = cotacoes_empresa['fator_ajuste'].iloc[0]\n",
    "        preco_ipo_ajustado = preco_de_ipo * fator_de_ajuste\n",
    "        data_inicial = cotacoes_empresa['data'].iloc[0]\n",
    "        meses_12 = data_inicial + timedelta(days = 365)\n",
    "        meses_24 = data_inicial + timedelta(days = 365 * 2)\n",
    "        meses_36 = data_inicial + timedelta(days = 365 * 3)\n",
    "\n",
    "        preco_12_meses = cotacoes_empresa[cotacoes_empresa['data'] < meses_12]['preco_fechamento_ajustado'].iloc[-1]\n",
    "        preco_24_meses = cotacoes_empresa[cotacoes_empresa['data'] < meses_24]['preco_fechamento_ajustado'].iloc[-1]\n",
    "        preco_36_meses = cotacoes_empresa[cotacoes_empresa['data'] < meses_36]['preco_fechamento_ajustado'].iloc[-1]\n",
    "\n",
    "        retorno_12m = preco_12_meses/preco_ipo_ajustado - 1\n",
    "        retorno_24m = preco_24_meses/preco_ipo_ajustado - 1\n",
    "        retorno_36m = preco_36_meses/preco_ipo_ajustado - 1\n",
    "\n",
    "        ibovespa_12m = ibovespa[(ibovespa['data'] >= data_inicial) & (ibovespa['data'] < meses_12)]\n",
    "        ibovespa_24m = ibovespa[(ibovespa['data'] >= data_inicial) & (ibovespa['data'] < meses_24)]\n",
    "        ibovespa_36m = ibovespa[(ibovespa['data'] >= data_inicial) & (ibovespa['data'] < meses_36)]\n",
    "\n",
    "        retorno_ibov_12m = ibovespa_12m['fechamento'].iloc[-1]/ibovespa_12m['fechamento'].iloc[0] - 1\n",
    "        retorno_ibov_24m = ibovespa_24m['fechamento'].iloc[-1]/ibovespa_24m['fechamento'].iloc[0] - 1\n",
    "        retorno_ibov_36m = ibovespa_36m['fechamento'].iloc[-1]/ibovespa_36m['fechamento'].iloc[0] - 1\n",
    "\n",
    "\n",
    "        df_retornos_ipos.loc[empresa] = [retorno_12m, retorno_24m, retorno_36m, \n",
    "                                         retorno_ibov_12m, retorno_ibov_24m, retorno_ibov_36m]  "
   ]
  },
  {
   "cell_type": "code",
   "execution_count": null,
   "id": "e33c51aa",
   "metadata": {},
   "outputs": [],
   "source": [
    "df_retornos_ipos.loc[df_retornos_ipos['retorno_24m'] == df_retornos_ipos['retorno_12m'], 'retorno_24m'] = pd.NA\n",
    "df_retornos_ipos.loc[df_retornos_ipos['retorno_36m'] == df_retornos_ipos['retorno_24m'], 'retorno_36m'] = pd.NA\n",
    "df_retornos_ipos.loc[df_retornos_ipos['retorno_36m'] == df_retornos_ipos['retorno_12m'], 'retorno_36m'] = pd.NA"
   ]
  },
  {
   "cell_type": "code",
   "execution_count": null,
   "id": "f1951f90",
   "metadata": {},
   "outputs": [],
   "source": [
    "df_retornos_ipos"
   ]
  },
  {
   "cell_type": "code",
   "execution_count": null,
   "id": "86374cfc",
   "metadata": {},
   "outputs": [],
   "source": [
    "df_retornos_ipos['maior_12'] = df_retornos_ipos['retorno_12m'] > df_retornos_ipos['retorno_ibov_12m']\n",
    "df_retornos_ipos['maior_24'] = df_retornos_ipos['retorno_24m'] > df_retornos_ipos['retorno_ibov_24m']\n",
    "df_retornos_ipos['maior_36'] = df_retornos_ipos['retorno_36m'] > df_retornos_ipos['retorno_ibov_36m']\n",
    "\n",
    "df_retorno_ibov = df_retornos_ipos[['maior_12', 'maior_24', 'maior_36']]"
   ]
  },
  {
   "cell_type": "code",
   "execution_count": null,
   "id": "f2e0d5bd",
   "metadata": {},
   "outputs": [],
   "source": [
    "df_retornos_ipos.isna().sum()"
   ]
  },
  {
   "cell_type": "markdown",
   "id": "8e99db20",
   "metadata": {},
   "source": [
    "# Análise de retornos "
   ]
  },
  {
   "cell_type": "code",
   "execution_count": null,
   "id": "fa2e7ca6",
   "metadata": {},
   "outputs": [],
   "source": [
    "tabela_retornos_positivos = pd.DataFrame(columns = ['% da amostra'], index = ['12 meses', '24 meses', '36 meses'])\n",
    "tabela_retornos_acima_do_ibov = pd.DataFrame(columns = ['% da amostra'], index = ['12 meses', '24 meses', '36 meses'])\n",
    "empresas_com_maiores_retornos = pd.DataFrame(columns = ['Retorno', 'Empresa'], index = ['12 meses', '24 meses', '36 meses'])\n",
    "empresas_com_menores_retornos = pd.DataFrame(columns = ['Retorno', 'Empresa'], index = ['12 meses', '24 meses', '36 meses'])\n",
    "medias_e_medianas_de_retorno = pd.DataFrame(columns = ['Média', 'Mediana'], index = ['12 meses', '24 meses', '36 meses'])\n",
    "composição_da_oferta = pd.DataFrame(columns = ['Varejo', 'Institucional', 'Estrangeiros', 'Outros'], \n",
    "                                   index = ['12M > 0', '12M < 0', '24M > 0', '24M < 0', '36M > 0', '36M < 0'])"
   ]
  },
  {
   "cell_type": "code",
   "execution_count": null,
   "id": "22b6bfda",
   "metadata": {},
   "outputs": [],
   "source": [
    "(df_retorno_ibov.sum()/len(df_retorno_ibov)).iloc[1]"
   ]
  },
  {
   "cell_type": "code",
   "execution_count": null,
   "id": "f20cdc3e",
   "metadata": {},
   "outputs": [],
   "source": [
    "tabela_retornos_acima_do_ibov.iloc[0, 0] = str(round((df_retorno_ibov.sum()/len(df_retorno_ibov)).iloc[0] * 100, 2)) + \"%\"\n",
    "tabela_retornos_acima_do_ibov.iloc[1, 0] = str(round((df_retorno_ibov.sum()/len(df_retorno_ibov)).iloc[1] * 100, 2)) + \"%\"\n",
    "tabela_retornos_acima_do_ibov.iloc[2, 0] = str(round((df_retorno_ibov.sum()/len(df_retorno_ibov)).iloc[2] * 100, 2)) + \"%\""
   ]
  },
  {
   "cell_type": "code",
   "execution_count": null,
   "id": "a534b39c",
   "metadata": {},
   "outputs": [],
   "source": [
    "meses = [12, 24, 36]\n",
    "\n",
    "for i, mes in enumerate(meses):\n",
    "\n",
    "    df_retornos_ipos_xm = df_retornos_ipos[f'retorno_{mes}m']\n",
    "    df_retornos_ipos_xm.dropna(inplace = True)\n",
    "    df_retornos_ipos_xm = df_retornos_ipos_xm.astype(float)\n",
    "    total_positivo = round((df_retornos_ipos_xm > 0).sum()/len(df_retornos_ipos_xm) * 100, 2) \n",
    "    \n",
    "    tabela_retornos_positivos.iloc[i, 0] = str(total_positivo) + '%'\n",
    "    \n",
    "    retorno = round(df_retornos_ipos_xm.max() * 100, 2)\n",
    "    empresa = df_retornos_ipos_xm.idxmax()\n",
    "    \n",
    "    empresas_com_maiores_retornos.iloc[i, 0] = retorno\n",
    "    empresas_com_maiores_retornos.iloc[i, 1] = empresa\n",
    "\n",
    "    retorno = round(df_retornos_ipos_xm.min() * 100, 2)\n",
    "    empresa = df_retornos_ipos_xm.idxmin()\n",
    "    \n",
    "    empresas_com_menores_retornos.iloc[i, 0] = retorno\n",
    "    empresas_com_menores_retornos.iloc[i, 1] = empresa"
   ]
  },
  {
   "cell_type": "code",
   "execution_count": null,
   "id": "9b29c923",
   "metadata": {},
   "outputs": [],
   "source": [
    "medias_e_medianas_de_retorno.iloc[0, 0] = str(round((df_retornos_ipos.mean().iloc[0] * 100), 2)) + \"%\"\n",
    "medias_e_medianas_de_retorno.iloc[0, 1] = str(round((df_retornos_ipos.median().iloc[0] * 100), 2)) + \"%\"\n",
    "medias_e_medianas_de_retorno.iloc[1, 0] = str(round((df_retornos_ipos.mean().iloc[1] * 100), 2)) + \"%\"\n",
    "medias_e_medianas_de_retorno.iloc[1, 1] = str(round((df_retornos_ipos.median().iloc[1] * 100), 2)) + \"%\"\n",
    "medias_e_medianas_de_retorno.iloc[2, 0] = str(round((df_retornos_ipos.mean().iloc[2] * 100), 2)) + \"%\"\n",
    "medias_e_medianas_de_retorno.iloc[2, 1] = str(round((df_retornos_ipos.median().iloc[2] * 100), 2)) + \"%\"\n",
    "\n",
    "display(medias_e_medianas_de_retorno)"
   ]
  },
  {
   "cell_type": "code",
   "execution_count": null,
   "id": "d8b19554",
   "metadata": {},
   "outputs": [],
   "source": [
    "ipos_2 = pd.read_excel(\"IPOS.xlsx\")\n",
    "ipos_2 = ipos_2[ipos_2['CLASSIFICAÇÃO'] == 'IPO']\n",
    "ipos_2 = ipos_2[ipos_2['INÍCIO DE NEGOCIAÇÃO'] > \"2010-01-01\"]\n",
    "ipos_2 = ipos_2[~ipos_2['LISTAGEM NA OFERTA'].str.contains('BDR')]\n",
    "ipos_2"
   ]
  },
  {
   "cell_type": "code",
   "execution_count": null,
   "id": "a8332f49",
   "metadata": {},
   "outputs": [],
   "source": [
    "ofertas_12m_maior_que_zero = df_retornos_ipos[df_retornos_ipos['retorno_12m'] > 0].index\n",
    "comp_ofertas_12m_maior_que_zero = ipos_2[ipos_2['NOME DE PREGÃO'].isin(ofertas_12m_maior_que_zero)]\n",
    "comp_ofertas_12m_maior_que_zero = comp_ofertas_12m_maior_que_zero[['VAREJO', 'INSTITUCIONAL', \n",
    "                                                                   'ESTRANGEIROS', 'OUTROS']]\n",
    "composição_da_oferta.loc['12M > 0'] = [str(x) + \"%\" for x in round(comp_ofertas_12m_maior_que_zero.mean() * 100, 2).to_list()]\n",
    "\n",
    "ofertas_12m_maior_que_zero = df_retornos_ipos[df_retornos_ipos['retorno_12m'] < 0].index\n",
    "comp_ofertas_12m_maior_que_zero = ipos_2[ipos_2['NOME DE PREGÃO'].isin(ofertas_12m_maior_que_zero)]\n",
    "comp_ofertas_12m_maior_que_zero = comp_ofertas_12m_maior_que_zero[['VAREJO', 'INSTITUCIONAL', \n",
    "                                                                   'ESTRANGEIROS', 'OUTROS']]\n",
    "composição_da_oferta.loc['12M < 0'] = [str(x) + \"%\" for x in round(comp_ofertas_12m_maior_que_zero.mean() * 100, 2).to_list()]\n",
    "\n",
    "ofertas_12m_maior_que_zero = df_retornos_ipos[df_retornos_ipos['retorno_24m'] > 0].index\n",
    "comp_ofertas_12m_maior_que_zero = ipos_2[ipos_2['NOME DE PREGÃO'].isin(ofertas_12m_maior_que_zero)]\n",
    "comp_ofertas_12m_maior_que_zero = comp_ofertas_12m_maior_que_zero[['VAREJO', 'INSTITUCIONAL', \n",
    "                                                                   'ESTRANGEIROS', 'OUTROS']]\n",
    "composição_da_oferta.loc['24M > 0'] = [str(x) + \"%\" for x in round(comp_ofertas_12m_maior_que_zero.mean() * 100, 2).to_list()]\n",
    "\n",
    "ofertas_12m_maior_que_zero = df_retornos_ipos[df_retornos_ipos['retorno_24m'] < 0].index\n",
    "comp_ofertas_12m_maior_que_zero = ipos_2[ipos_2['NOME DE PREGÃO'].isin(ofertas_12m_maior_que_zero)]\n",
    "comp_ofertas_12m_maior_que_zero = comp_ofertas_12m_maior_que_zero[['VAREJO', 'INSTITUCIONAL', \n",
    "                                                                   'ESTRANGEIROS', 'OUTROS']]\n",
    "composição_da_oferta.loc['24M < 0'] = [str(x) + \"%\" for x in round(comp_ofertas_12m_maior_que_zero.mean() * 100, 2).to_list()]\n",
    "\n",
    "ofertas_12m_maior_que_zero = df_retornos_ipos[df_retornos_ipos['retorno_36m'] > 0].index\n",
    "comp_ofertas_12m_maior_que_zero = ipos_2[ipos_2['NOME DE PREGÃO'].isin(ofertas_12m_maior_que_zero)]\n",
    "comp_ofertas_12m_maior_que_zero = comp_ofertas_12m_maior_que_zero[['VAREJO', 'INSTITUCIONAL', \n",
    "                                                                   'ESTRANGEIROS', 'OUTROS']]\n",
    "composição_da_oferta.loc['36M > 0'] = [str(x) + \"%\" for x in round(comp_ofertas_12m_maior_que_zero.mean() * 100, 2).to_list()]\n",
    "\n",
    "ofertas_12m_maior_que_zero = df_retornos_ipos[df_retornos_ipos['retorno_36m'] < 0].index\n",
    "comp_ofertas_12m_maior_que_zero = ipos_2[ipos_2['NOME DE PREGÃO'].isin(ofertas_12m_maior_que_zero)]\n",
    "comp_ofertas_12m_maior_que_zero = comp_ofertas_12m_maior_que_zero[['VAREJO', 'INSTITUCIONAL', \n",
    "                                                                   'ESTRANGEIROS', 'OUTROS']]\n",
    "composição_da_oferta.loc['36M < 0'] = [str(x) + \"%\" for x in round(comp_ofertas_12m_maior_que_zero.mean() * 100, 2).to_list()]\n",
    "\n",
    "composição_da_oferta"
   ]
  },
  {
   "cell_type": "code",
   "execution_count": null,
   "id": "71da0324",
   "metadata": {},
   "outputs": [],
   "source": []
  },
  {
   "cell_type": "markdown",
   "id": "0b9dddfe",
   "metadata": {},
   "source": [
    "# Relatório de IPOs\n",
    "\n",
    "### 126 empresas fizeram IPO desde 2010.\n",
    "\n",
    "<br>\n",
    "Das 126 empresas:\n",
    "\n",
    "* 12 não apresentaram dados de 12 meses após IPO.\n",
    "* 15 não apresentaram dados de 24 meses após IPO.\n",
    "* 21 não apresentaram após de 36 meses após IPO.\n",
    "\n",
    "# Fonte dos dados:\n",
    "\n",
    "- Base de dados da Varos\n",
    "- B3\n",
    "\n",
    "### Investindo em evidências"
   ]
  },
  {
   "cell_type": "markdown",
   "id": "e55b8878",
   "metadata": {},
   "source": [
    "## % das empresas com retorno positivo"
   ]
  },
  {
   "cell_type": "code",
   "execution_count": null,
   "id": "066150b9",
   "metadata": {},
   "outputs": [],
   "source": [
    "tabela_retornos_positivos"
   ]
  },
  {
   "cell_type": "markdown",
   "id": "7aef21d9",
   "metadata": {},
   "source": [
    "## % das empresas que superaram o ibovespa:"
   ]
  },
  {
   "cell_type": "code",
   "execution_count": null,
   "id": "5e56d0b8",
   "metadata": {},
   "outputs": [],
   "source": [
    "tabela_retornos_acima_do_ibov"
   ]
  },
  {
   "cell_type": "markdown",
   "id": "0054b03f",
   "metadata": {},
   "source": [
    "## Empresas com maiores e menores retornos"
   ]
  },
  {
   "cell_type": "code",
   "execution_count": null,
   "id": "a0c18dcb",
   "metadata": {},
   "outputs": [],
   "source": [
    "display(empresas_com_maiores_retornos)\n",
    "empresas_com_menores_retornos"
   ]
  },
  {
   "cell_type": "markdown",
   "id": "9d006770",
   "metadata": {},
   "source": [
    "## Médias e medianas de retorno"
   ]
  },
  {
   "cell_type": "code",
   "execution_count": null,
   "id": "6fbdf8ba",
   "metadata": {},
   "outputs": [],
   "source": [
    "medias_e_medianas_de_retorno"
   ]
  },
  {
   "cell_type": "markdown",
   "id": "23d6578a",
   "metadata": {},
   "source": [
    "## Composição das ofertas"
   ]
  },
  {
   "cell_type": "code",
   "execution_count": null,
   "id": "05bba877",
   "metadata": {},
   "outputs": [],
   "source": [
    "composição_da_oferta"
   ]
  },
  {
   "cell_type": "code",
   "execution_count": null,
   "id": "78943a70",
   "metadata": {},
   "outputs": [],
   "source": []
  }
 ],
 "metadata": {
  "kernelspec": {
   "display_name": "Python 3 (ipykernel)",
   "language": "python",
   "name": "python3"
  },
  "language_info": {
   "codemirror_mode": {
    "name": "ipython",
    "version": 3
   },
   "file_extension": ".py",
   "mimetype": "text/x-python",
   "name": "python",
   "nbconvert_exporter": "python",
   "pygments_lexer": "ipython3",
   "version": "3.11.3"
  }
 },
 "nbformat": 4,
 "nbformat_minor": 5
}
