{
 "cells": [
  {
   "cell_type": "code",
   "execution_count": null,
   "id": "589f5735",
   "metadata": {},
   "outputs": [],
   "source": [
    "import os\n",
    "import pandas as pd\n",
    "import dotenv\n",
    "import requests\n",
    "import numpy as np"
   ]
  },
  {
   "cell_type": "code",
   "execution_count": null,
   "id": "3de3ef3d",
   "metadata": {},
   "outputs": [],
   "source": [
    "%load_ext dotenv\n",
    "%dotenv"
   ]
  },
  {
   "cell_type": "code",
   "execution_count": null,
   "id": "8dd85d5b",
   "metadata": {},
   "outputs": [],
   "source": [
    "api_key = os.getenv(\"CHAVE_API\")\n",
    "headers = {'accept': 'application/json',\n",
    "                        'X-API-Key': api_key}"
   ]
  },
  {
   "cell_type": "code",
   "execution_count": null,
   "id": "2bac065d",
   "metadata": {},
   "outputs": [],
   "source": [
    "response = requests.get('https://api.fintz.com.br/indices/historico?indice=IBOV&dataInicio=1994-06-30',\n",
    "                                headers=headers)\n",
    "\n",
    "df = pd.DataFrame(response.json()) \n",
    "df = df.sort_values('data', ascending=True)\n",
    "df.columns = ['indice', 'data', 'fechamento']\n",
    "ibov = df.drop('indice', axis = 1)"
   ]
  },
  {
   "cell_type": "code",
   "execution_count": null,
   "id": "98cc03dc",
   "metadata": {},
   "outputs": [],
   "source": [
    "response = requests.get('https://api.fintz.com.br/taxas/historico?codigo=12&dataInicio=1994-06-30&ordem=ASC',\n",
    "                                headers=headers)\n",
    "    \n",
    "cdi = pd.DataFrame(response.json())\n",
    "cdi = cdi.drop([\"dataFim\", 'nome'], axis = 1)\n",
    "cdi.columns = ['data', 'retorno']\n",
    "cdi['retorno'] = cdi['retorno']/100 "
   ]
  },
  {
   "cell_type": "markdown",
   "id": "4a348709",
   "metadata": {},
   "source": [
    "# Resumo do estudo\n",
    "\n",
    "* Recebi 1 milhão de reais\n",
    "* Invisto tudo de uma vez no ibovespa ou invisto ao longo de 24 meses em partes iguais.\n",
    "* Comparar resultados depois de 24M\n",
    "* Comparar os resultados no longo prazo (ok, no curto perde, mas e depois de 20 anos?)\n",
    "* Carteira 100% ibov\n",
    "* SEM CDI\n",
    "\n",
    "São duas variáveis:\n",
    "\n",
    "* Quantos períodos eu vou investir o dinheiro?\n",
    "\n",
    "    - 24 meses\n",
    "\n",
    "* De quanto em  quanto tempo eu vou investir o dinheiro?\n",
    "    \n",
    "    - 21 dias\n",
    "    \n",
    "* Quanto tempo eu vou deixar esse dinheiro investido?\n",
    "    - O período de aporte\n",
    "    \n",
    "    \n",
    "Preciso de uma tabela com o dinheiro final ao final de todos os períodos, retorno final e a volatilidade da carteira"
   ]
  },
  {
   "cell_type": "code",
   "execution_count": null,
   "id": "2e394e25",
   "metadata": {},
   "outputs": [],
   "source": [
    "response = requests.get('https://api.fintz.com.br/indices/historico?indice=IBOV&dataInicio=1994-06-30',\n",
    "                                headers=headers)\n",
    "\n",
    "df = pd.DataFrame(response.json()) \n",
    "df = df.sort_values('data', ascending=True)\n",
    "df.columns = ['indice', 'data', 'fechamento']\n",
    "lump_Sum = df.drop('indice', axis = 1)"
   ]
  },
  {
   "cell_type": "code",
   "execution_count": null,
   "id": "96fefd43",
   "metadata": {},
   "outputs": [],
   "source": [
    "ibov = ibov.set_index('data')\n",
    "ibov['retornos'] = ibov['fechamento'].pct_change()"
   ]
  },
  {
   "cell_type": "code",
   "execution_count": null,
   "id": "9a37c41e",
   "metadata": {},
   "outputs": [],
   "source": [
    "ibov = ibov.dropna()\n",
    "ibov = ibov['retornos']"
   ]
  },
  {
   "cell_type": "code",
   "execution_count": null,
   "id": "60303bd3",
   "metadata": {},
   "outputs": [],
   "source": [
    "from datetime import date"
   ]
  },
  {
   "cell_type": "code",
   "execution_count": null,
   "id": "36a60452",
   "metadata": {},
   "outputs": [],
   "source": [
    "data_dinheiros = ibov.index.copy()\n",
    "data_dinheiros = data_dinheiros.insert(0, \"1994-06-30\")\n",
    "\n",
    "tabela_longo_prazo = pd.DataFrame(columns = ['Dinheiro PM', 'Dinheiro LS'], index = data_dinheiros)\n",
    "tabela_longo_prazo.loc['1994-06-30'] = [1000, 1000]\n",
    "tabela_longo_prazo"
   ]
  },
  {
   "cell_type": "code",
   "execution_count": null,
   "id": "4be43817",
   "metadata": {},
   "outputs": [],
   "source": [
    "data_inicial = 0\n",
    "meses = 23\n",
    "tabela_dados = pd.DataFrame(columns = ['Dinheiro final PM', 'Vol PM', 'Retorno PM', \n",
    "                                       'Dinheiro final LS', 'Vol LS', 'Retorno LS'],\n",
    "                           index = ibov.index)\n",
    "\n",
    "\n",
    "\n",
    "ibov_ls = lump_Sum.copy()\n",
    "ibov_ls['retorno_periodo'] = ibov_ls['fechamento'].pct_change(periods = (21 * meses))\n",
    "ibov_ls['volatilidade'] = (ibov_ls['fechamento'].pct_change().rolling(21 * meses).std()) * np.sqrt(252)\n",
    "ibov_ls['dinheiro'] = 1000 * (1 + ibov_ls['retorno_periodo'])\n",
    "ibov_ls = ibov_ls.dropna()\n",
    "ibov_ls = ibov_ls.set_index('data')\n",
    "\n",
    "for data in ibov.index:\n",
    "    \n",
    "    ibov_data = ibov.iloc[data_inicial:]\n",
    "    \n",
    "    try: \n",
    "        \n",
    "        ibov_periodos = ibov_data[range(0, (21 * meses) + 1, 21)]\n",
    "        sucesso = True\n",
    "        \n",
    "    except:\n",
    "        \n",
    "        pass\n",
    "    \n",
    "    if sucesso:\n",
    "        \n",
    "        datas_de_aporte = ibov_periodos.index\n",
    "        periodo_de_analise = ibov[(ibov.index >= datas_de_aporte[0]) & (ibov.index <= datas_de_aporte[-1])]\n",
    "        dinheiro = 1000\n",
    "        carteira = 0\n",
    "        valor_aporte = 1000/(meses + 1)\n",
    "        lista_dinheiros = []\n",
    "        lista_retornos = []\n",
    "\n",
    "        for dia in periodo_de_analise.index:\n",
    "\n",
    "            if dia in datas_de_aporte:\n",
    "\n",
    "                carteira = carteira + valor_aporte\n",
    "                dinheiro = dinheiro - valor_aporte\n",
    "\n",
    "            peso_carteira = carteira/(carteira + dinheiro)\n",
    "            retorno_ibov = periodo_de_analise.loc[dia]\n",
    "            retorno_carteira = retorno_ibov * peso_carteira\n",
    "            carteira = carteira * (1 + retorno_carteira)\n",
    "            dinheiro_total = carteira + dinheiro\n",
    "            lista_dinheiros.append(dinheiro_total)\n",
    "            lista_retornos.append(retorno_carteira + 1)\n",
    "\n",
    "\n",
    "        vol_pm = np.std(lista_retornos) * np.sqrt(252)\n",
    "        dinheiro_pm = lista_dinheiros[-1]\n",
    "        retorno_pm = (np.cumprod(lista_retornos))[-1] - 1\n",
    "        \n",
    "        retorno_ls = ibov_ls.loc[datas_de_aporte[-1], 'retorno_periodo']\n",
    "        vol_ls = ibov_ls.loc[datas_de_aporte[-1], 'volatilidade']\n",
    "        dinheiro_ls = ibov_ls.loc[datas_de_aporte[-1], 'dinheiro']\n",
    "        \n",
    "        \n",
    "        tabela_dados.loc[datas_de_aporte[-1]] = [dinheiro_pm, vol_pm, retorno_pm,\n",
    "                                                dinheiro_ls, vol_ls, retorno_ls]\n",
    "        \n",
    "        \n",
    "        if data_inicial == 0:\n",
    "            \n",
    "            \n",
    "            tabela_longo_prazo.iloc[1:len(lista_dinheiros) + 1, 0] = lista_dinheiros\n",
    "            \n",
    "    \n",
    "    data_inicial = data_inicial + 1\n",
    "    \n",
    "    \n",
    "        \n",
    "tabela_dados        "
   ]
  },
  {
   "cell_type": "code",
   "execution_count": null,
   "id": "0848bef1",
   "metadata": {},
   "outputs": [],
   "source": [
    "tabela_dados = tabela_dados.dropna()"
   ]
  },
  {
   "cell_type": "code",
   "execution_count": null,
   "id": "a87dc4d4",
   "metadata": {},
   "outputs": [],
   "source": [
    "tabela_dados['Outperform'] = tabela_dados['Dinheiro final PM'] - tabela_dados['Dinheiro final LS']  "
   ]
  },
  {
   "cell_type": "code",
   "execution_count": null,
   "id": "ee7773f8",
   "metadata": {},
   "outputs": [],
   "source": [
    "tabela_dados['Sharpe PM'] = ((1 + tabela_dados['Retorno PM'])**(1/2) - 1)/tabela_dados['Vol PM']\n",
    "tabela_dados['Sharpe LS'] = ((1 + tabela_dados['Retorno LS'])**(1/2) - 1)/tabela_dados['Vol LS']"
   ]
  },
  {
   "cell_type": "code",
   "execution_count": null,
   "id": "e4cd2136",
   "metadata": {},
   "outputs": [],
   "source": [
    "import plotly.graph_objects as go\n",
    "import scipy\n",
    "from scipy import signal"
   ]
  },
  {
   "cell_type": "code",
   "execution_count": null,
   "id": "20367739",
   "metadata": {
    "scrolled": false
   },
   "outputs": [],
   "source": [
    "fig = go.Figure()\n",
    "\n",
    "fig.add_trace(go.Scatter(\n",
    "    x=tabela_dados.index,\n",
    "    y=signal.savgol_filter(tabela_dados['Dinheiro final PM'],\n",
    "                           107, # window size used for filtering\n",
    "                           2), # order of fitted polynomial\n",
    "    mode='markers',\n",
    "    marker = dict(size = 2)\n",
    "))\n",
    "\n",
    "fig.add_trace(go.Scatter(\n",
    "    x=tabela_dados.index,\n",
    "    y=signal.savgol_filter(tabela_dados['Dinheiro final LS'],\n",
    "                           107, # window size used for filtering\n",
    "                           2), # order of fitted polynomial\n",
    "    mode='markers',\n",
    "    marker = dict(size = 2)\n",
    "))\n",
    "\n",
    "\n",
    "fig.show()"
   ]
  },
  {
   "cell_type": "markdown",
   "id": "0fd32a61",
   "metadata": {},
   "source": [
    "Quando ganha, ganha por no max 300 reais. Quando perde, é pra bem mais. Importante ver isso pq no gráfico absoluto vc ver o LS se fudendo, mas o DCA tmbém não foi lá essas coisas. "
   ]
  },
  {
   "cell_type": "code",
   "execution_count": null,
   "id": "4ba34b14",
   "metadata": {},
   "outputs": [],
   "source": [
    "fig = go.Figure()\n",
    "\n",
    "fig.add_trace(go.Scatter(\n",
    "    x=tabela_dados.index,\n",
    "    y=signal.savgol_filter(tabela_dados['Outperform'],\n",
    "                           107, # window size used for filtering\n",
    "                           2), # order of fitted polynomial\n",
    "    mode='markers',\n",
    "    marker = dict(size = 2)\n",
    "))\n",
    "\n",
    "\n",
    "fig.show()"
   ]
  },
  {
   "cell_type": "code",
   "execution_count": null,
   "id": "98cddbce",
   "metadata": {},
   "outputs": [],
   "source": [
    "layout = go.Layout(yaxis=dict(tickformat=\".2%\"))\n",
    "fig = go.Figure(layout = layout)\n",
    "\n",
    "\n",
    "fig.add_trace(go.Scatter(\n",
    "    x=tabela_dados.index,\n",
    "    y=signal.savgol_filter(tabela_dados['Vol PM'],\n",
    "                           107, # window size used for filtering\n",
    "                           2), # order of fitted polynomial\n",
    "    mode='markers',\n",
    "    marker = dict(size = 2)\n",
    "))\n",
    "\n",
    "fig.add_trace(go.Scatter(\n",
    "    x=tabela_dados.index,\n",
    "    y=signal.savgol_filter(tabela_dados['Vol LS'],\n",
    "                           107, # window size used for filtering\n",
    "                           2), # order of fitted polynomial\n",
    "    mode='markers',\n",
    "    marker = dict(size = 2)\n",
    "))\n",
    "\n",
    "\n",
    "fig.show()"
   ]
  },
  {
   "cell_type": "code",
   "execution_count": null,
   "id": "f0529ee9",
   "metadata": {},
   "outputs": [],
   "source": [
    "fig = go.Figure()\n",
    "\n",
    "\n",
    "fig.add_trace(go.Scatter(\n",
    "    x=tabela_dados.index,\n",
    "    y=signal.savgol_filter(tabela_dados['Sharpe PM'],\n",
    "                           107, # window size used for filtering\n",
    "                           2), # order of fitted polynomial\n",
    "    mode='markers',\n",
    "    marker = dict(size = 2),\n",
    "    name = 'Preço Médio'\n",
    "))\n",
    "\n",
    "fig.add_trace(go.Scatter(\n",
    "    x=tabela_dados.index,\n",
    "    y=signal.savgol_filter(tabela_dados['Sharpe LS'],\n",
    "                           107, # window size used for filtering\n",
    "                           2), # order of fitted polynomial\n",
    "    mode='markers',\n",
    "    marker = dict(size = 2),\n",
    "    name = 'Investir aos poucos'\n",
    "))\n",
    "\n",
    "\n",
    "fig.show()"
   ]
  },
  {
   "cell_type": "code",
   "execution_count": null,
   "id": "3bebb8e2",
   "metadata": {},
   "outputs": [],
   "source": [
    "sum(tabela_dados['Sharpe LS'] > tabela_dados['Sharpe PM'])/len(tabela_dados)\n",
    "\n",
    "#na média tanto faz, mas o tipo de risco é diferente. \n",
    "#Um você vai ganhar muito ou perder muito e o outro você vai evitar perder e ganhar menos."
   ]
  },
  {
   "cell_type": "code",
   "execution_count": null,
   "id": "765a4a44",
   "metadata": {},
   "outputs": [],
   "source": [
    "#Quantos % dos dias investir tudo de uma vez ganhou de investir aos poucos?\n",
    "\n",
    "sum(tabela_dados['Outperform'] < 0)/len(tabela_dados)\n",
    "\n",
    "#Investir aos poucos ficou 4 anos ganhando sem parar em 2012-2015."
   ]
  },
  {
   "cell_type": "markdown",
   "id": "a563a586",
   "metadata": {},
   "source": [
    "Esse números são pro ibovespa. Se sua carteira é muito melhor que o ibov, o cenário vai ficando pior pra investir aos poucos"
   ]
  },
  {
   "cell_type": "code",
   "execution_count": null,
   "id": "b0c996d2",
   "metadata": {},
   "outputs": [],
   "source": [
    "prod_ibov = (1 + ibov).cumprod() * 1000\n",
    "prod_ibov"
   ]
  },
  {
   "cell_type": "code",
   "execution_count": null,
   "id": "9974f0ae",
   "metadata": {},
   "outputs": [],
   "source": [
    "tabela_longo_prazo.loc[prod_ibov.index, 'Dinheiro LS'] = prod_ibov\n",
    "tabela_longo_prazo"
   ]
  },
  {
   "cell_type": "code",
   "execution_count": null,
   "id": "40a45d8f",
   "metadata": {},
   "outputs": [],
   "source": [
    "primeira_data = ibov[ibov.index >= '1996-06-21']\n",
    "primeira_data = (1 + primeira_data).cumprod() * 1312.900696\n",
    "primeira_data"
   ]
  },
  {
   "cell_type": "code",
   "execution_count": null,
   "id": "cbb66b5d",
   "metadata": {},
   "outputs": [],
   "source": [
    "tabela_longo_prazo.loc[primeira_data.index, 'Dinheiro PM'] = primeira_data"
   ]
  },
  {
   "cell_type": "code",
   "execution_count": null,
   "id": "e56cd602",
   "metadata": {},
   "outputs": [],
   "source": [
    "fig = go.Figure()\n",
    "\n",
    "\n",
    "fig.add_trace(go.Scatter(\n",
    "    x=tabela_dados.index,\n",
    "    y=signal.savgol_filter(tabela_longo_prazo['Dinheiro PM'],\n",
    "                           107, # window size used for filtering\n",
    "                           2), # order of fitted polynomial\n",
    "    mode='markers',\n",
    "    marker = dict(size = 2),\n",
    "    name = 'Preço Médio'\n",
    "))\n",
    "\n",
    "fig.add_trace(go.Scatter(\n",
    "    x=tabela_dados.index,\n",
    "    y=signal.savgol_filter(tabela_longo_prazo['Dinheiro LS'],\n",
    "                           107, # window size used for filtering\n",
    "                           2), # order of fitted polynomial\n",
    "    mode='markers',\n",
    "    marker = dict(size = 2),\n",
    "    name = 'Investir aos poucos'\n",
    "))\n",
    "\n",
    "\n",
    "fig.show()"
   ]
  },
  {
   "cell_type": "code",
   "execution_count": null,
   "id": "46009a7b",
   "metadata": {},
   "outputs": [],
   "source": []
  }
 ],
 "metadata": {
  "kernelspec": {
   "display_name": "Python 3 (ipykernel)",
   "language": "python",
   "name": "python3"
  },
  "language_info": {
   "codemirror_mode": {
    "name": "ipython",
    "version": 3
   },
   "file_extension": ".py",
   "mimetype": "text/x-python",
   "name": "python",
   "nbconvert_exporter": "python",
   "pygments_lexer": "ipython3",
   "version": "3.8.10"
  }
 },
 "nbformat": 4,
 "nbformat_minor": 5
}
