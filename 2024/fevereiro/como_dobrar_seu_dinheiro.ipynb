{
 "cells": [
  {
   "cell_type": "markdown",
   "id": "1ff18d12",
   "metadata": {},
   "source": [
    "# É possível dobrar o seu dinheiro na bolsa de valores em 3 anos? | O método Monte Carlo\n",
    "\n",
    "- Criado durante a segunda guerra mundial.\n",
    "- Nomeado em homenagem a cidade de mônaco com seus cassinos.\n",
    "- Foi criada originalmente para testar cenários do jogo de paciência.\n",
    "- Usada para estimar os possíveis resultados de um evento incerto. O acaso é principal elemento da abordagem na modelagem.\n",
    "\n",
    "----\n",
    "\n",
    "## Questão a ser respondida:\n",
    "\n",
    "Em quanto tempo você demoraria pra dobrar seu investimento investindo no ibovespa, o principal índice de ações do Brasil?\n",
    "Esse investimento vai permitir que você dobre o seu dinheiro com qual probabilidade?\n",
    "\n",
    "- Tempo mínimo.\n",
    "- Janela móvel de probabilidade x tempo decorrido em ações."
   ]
  },
  {
   "cell_type": "code",
   "execution_count": null,
   "id": "c75c2612",
   "metadata": {},
   "outputs": [],
   "source": [
    "import numpy as np\n",
    "import matplotlib.pyplot as plt\n",
    "import datetime as dt\n",
    "import yfinance as yf\n",
    "from numpy import linalg as LA\n",
    "import pandas as pd\n",
    "import mplcyberpunk\n",
    "\n",
    "plt.style.use(\"cyberpunk\")"
   ]
  },
  {
   "cell_type": "code",
   "execution_count": null,
   "id": "bd1603ed",
   "metadata": {},
   "outputs": [],
   "source": [
    "#pegando dados\n",
    "\n",
    "data_final = dt.datetime.now()\n",
    "data_inicial = data_final - dt.timedelta(days=10000)\n",
    "\n",
    "precos = yf.download('^BVSP', data_inicial, data_final)['Adj Close']\n",
    "\n",
    "precos"
   ]
  },
  {
   "cell_type": "code",
   "execution_count": null,
   "id": "dc264cd0",
   "metadata": {},
   "outputs": [],
   "source": [
    "retornos = precos.pct_change()\n",
    "retornos"
   ]
  },
  {
   "cell_type": "code",
   "execution_count": null,
   "id": "ac0feb62",
   "metadata": {},
   "outputs": [],
   "source": [
    "simulacoes = 10000\n",
    "dias_projetados = 756\n",
    "\n",
    "valores_carteira = np.zeros([dias_projetados, simulacoes])\n",
    "\n",
    "for i in range(simulacoes):\n",
    "\n",
    "    valor_simulado = np.random.choice(retornos, size = dias_projetados, replace = True)\n",
    "    valor_final = 1000*(1 + valor_simulado).cumprod()\n",
    "    \n",
    "    \n",
    "    valores_carteira[:, i] = valor_final"
   ]
  },
  {
   "cell_type": "markdown",
   "id": "51d2964e",
   "metadata": {},
   "source": [
    "# Simulações"
   ]
  },
  {
   "cell_type": "code",
   "execution_count": null,
   "id": "d673bf09",
   "metadata": {},
   "outputs": [],
   "source": [
    "plt.figure(figsize = ((10, 7)))\n",
    "plt.plot(valores_carteira, linewidth=1)\n",
    "plt.ylabel('Dinheiro')\n",
    "plt.xlabel('Dias')\n",
    "plt.show()"
   ]
  },
  {
   "cell_type": "code",
   "execution_count": null,
   "id": "0008048c",
   "metadata": {},
   "outputs": [],
   "source": [
    "dobrou_o_dinheiro = valores_carteira > 2000\n",
    "dobrou_o_dinheiro = pd.DataFrame(dobrou_o_dinheiro)\n",
    "amostra_que_dobrou = dobrou_o_dinheiro.sum(axis = 1)/simulacoes\n",
    "amostra_que_nao_dobrou = 1 - amostra_que_dobrou"
   ]
  },
  {
   "cell_type": "markdown",
   "id": "987d9716",
   "metadata": {},
   "source": [
    "# % da amostra que dobrou ao longo dos 3 anos."
   ]
  },
  {
   "cell_type": "code",
   "execution_count": null,
   "id": "d6828d90",
   "metadata": {},
   "outputs": [],
   "source": [
    "plt.figure(figsize = ((10, 7)))\n",
    "plt.plot(amostra_que_dobrou, linewidth=1)\n",
    "plt.plot(amostra_que_nao_dobrou)\n",
    "plt.ylabel('% que dobrou')\n",
    "plt.xlabel('Dias')\n",
    "plt.show()"
   ]
  },
  {
   "cell_type": "code",
   "execution_count": null,
   "id": "0bbd0a95",
   "metadata": {
    "scrolled": true
   },
   "outputs": [],
   "source": [
    "valores_carteira = pd.DataFrame(valores_carteira)\n",
    "\n",
    "menor_tempo = valores_carteira[valores_carteira.max(axis = 1) > 2000]\n",
    "menor_tempo"
   ]
  },
  {
   "cell_type": "markdown",
   "id": "56c27fad",
   "metadata": {},
   "source": [
    "# Material\n",
    "\n",
    "* Código na descrição.\n",
    "* Mude o ativo e o período você mesmo.\n",
    "* Método de Monte Carlo pra uma carteira de ações em outro vídeo do canal."
   ]
  },
  {
   "cell_type": "code",
   "execution_count": null,
   "id": "08ec9505",
   "metadata": {},
   "outputs": [],
   "source": []
  },
  {
   "cell_type": "code",
   "execution_count": null,
   "id": "5765376a",
   "metadata": {},
   "outputs": [],
   "source": []
  },
  {
   "cell_type": "code",
   "execution_count": null,
   "id": "6edd704c",
   "metadata": {},
   "outputs": [],
   "source": []
  }
 ],
 "metadata": {
  "kernelspec": {
   "display_name": "Python 3 (ipykernel)",
   "language": "python",
   "name": "python3"
  },
  "language_info": {
   "codemirror_mode": {
    "name": "ipython",
    "version": 3
   },
   "file_extension": ".py",
   "mimetype": "text/x-python",
   "name": "python",
   "nbconvert_exporter": "python",
   "pygments_lexer": "ipython3",
   "version": "3.11.3"
  }
 },
 "nbformat": 4,
 "nbformat_minor": 5
}
