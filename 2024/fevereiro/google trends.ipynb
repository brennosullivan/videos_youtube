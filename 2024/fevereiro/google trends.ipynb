{
 "cells": [
  {
   "cell_type": "code",
   "execution_count": null,
   "id": "75d16322",
   "metadata": {},
   "outputs": [],
   "source": [
    "import matplotlib.pyplot as plt\n",
    "import yfinance as yf\n",
    "from pytrends.request import TrendReq\n",
    "from datetime import date\n",
    "from dateutil.relativedelta import relativedelta\n",
    "import pandas as pd\n",
    "import numpy as np\n",
    "import matplotlib.pyplot as plt\n",
    "import matplotlib.ticker as mtick\n",
    "import matplotlib.dates as mdates\n",
    "import mplcyberpunk"
   ]
  },
  {
   "cell_type": "markdown",
   "id": "62a50ca5",
   "metadata": {},
   "source": [
    "$$\n",
    "S_{t + 1} = \n",
    "\\left\\{  \n",
    "  \\begin{array}{ c l }\n",
    "    1, & \\quad \\textrm{if } \\frac{P_{t - 1}}{P{t}} - 1 > 50\\% \\\\\n",
    "    0                 & \\quad \\textrm{otherwise}\n",
    "  \\end{array}\n",
    "\\right.$$"
   ]
  },
  {
   "cell_type": "code",
   "execution_count": null,
   "id": "615efe55",
   "metadata": {},
   "outputs": [],
   "source": [
    "def pesquisa_x_mtum(ticker, palavra, tempo_comeco, periodos, maiores = False):\n",
    "    \n",
    "    hoje = date.today()\n",
    "    comeco= hoje - relativedelta(months=25)\n",
    "    comeco_trend = hoje - relativedelta(months=24)\n",
    "\n",
    "    dados_acao = yf.download(f\"{ticker}\", start=comeco, end=hoje, progress=False)['Adj Close']\n",
    "    dados_acao = dados_acao.resample('w').last()\n",
    "    mtum1 = dados_acao.pct_change()\n",
    "    mtum1 = mtum1.iloc[3:]\n",
    "    mtum1 = mtum1.dropna()\n",
    "    mtum1.name = \"mtum1m\"\n",
    "    dados_acao = dados_acao.iloc[4:-2]\n",
    "\n",
    "    req = TrendReq(hl='en-US', tz=360)\n",
    "    req.build_payload(palavra, cat = 0, timeframe = f'{comeco_trend} {hoje}', geo = \"BR\", gprop = \"\")\n",
    "    dados_procura = req.interest_over_time()\n",
    "    dados_procura = dados_procura[f'{palavra[0]}']\n",
    "    dados_procura = dados_procura.replace(0, 0.0001)\n",
    "    \n",
    "    cor = pd.merge(dados_procura,dados_acao, right_index=True, left_index=True).pct_change()\n",
    "    cor = pd.merge(cor, mtum1, right_index=True, left_index=True).dropna()\n",
    "    \n",
    "    cor.columns = [f'{palavra[0]}' , f'{ticker}', \"mtum1m\"]\n",
    "    cor[[f'{palavra[0]}', \"mtum1m\"]] = cor[[f'{palavra[0]}', \"mtum1m\"]].shift(periods=periodos)\n",
    "    cor = cor.dropna()\n",
    "    \n",
    "    if maiores == True:\n",
    "        \n",
    "        cor = cor.sort_values(f\"{palavra[0]}\", ascending = False)\n",
    "        cor = cor[cor[f'{palavra[0]}'] > 0.5]\n",
    "        \n",
    "    \n",
    "    pct_cor = cor.apply(lambda x : 1 if x[f'{ticker}'] > 0 and x['mtum1m'] > 0 or \n",
    "                        x[f'{ticker}'] < 0 and x['mtum1m'] < 0 else 0, axis=1)\n",
    "    \n",
    "    pct_cor = pct_cor.sum()/len(pct_cor)\n",
    "    retorno_min = cor[f'{ticker}'].min()\n",
    "    retorno_max = cor[f'{ticker}'].max()\n",
    "    retorno_med = cor[f'{ticker}'].mean()\n",
    "    \n",
    "    cor[f\"{palavra[0]}\"] = cor[f\"{palavra[0]}\"].map(lambda x: str(round(x * 100, 2)) + \"%\")\n",
    "    cor[f'{ticker}'] = cor[f'{ticker}'].map(lambda x: str(round(x * 100, 2)) + \"%\")\n",
    "    cor[f'mtum1m'] = cor[f'mtum1m'].map(lambda x: str(round(x * 100, 2)) + \"%\")\n",
    "    \n",
    "    cor.columns = [f\"Pesquisa {palavra[0]}\", \"Rent período seguinte\", \"Rent semana hype\"]\n",
    "    \n",
    "    cor = cor[[f\"Pesquisa {palavra[0]}\", \"Rent semana hype\", \"Rent período seguinte\"]]\n",
    "    \n",
    "    display(cor)\n",
    "    \n",
    "    #print(\"A quantidade de semanas com mesmo sinal da semana do hype é: \",round(pct_cor*100,2),\"%\")"
   ]
  },
  {
   "cell_type": "code",
   "execution_count": null,
   "id": "10e89ff7",
   "metadata": {},
   "outputs": [],
   "source": [
    "def pesquisa_x_vol(ticker, palavra, tempo_comeco, periodos, maiores = False):\n",
    "    \n",
    "    hoje = date.today()\n",
    "    comeco= hoje - relativedelta(years=tempo_comeco)\n",
    "\n",
    "    dados_acao = yf.download(f\"{ticker}\", start=comeco, end=hoje, progress=False)['Adj Close']\n",
    "    dados_acao = dados_acao.resample('w').last()\n",
    "    dados_acao = dados_acao.iloc[:-2]\n",
    "\n",
    "\n",
    "    req = TrendReq(hl='en-US', tz=360)\n",
    "    req.build_payload(palavra, cat = 0, timeframe = f'{comeco} {hoje}', geo = \"BR\", gprop = \"\")\n",
    "    dados_procura = req.interest_over_time()\n",
    "    dados_procura = dados_procura[f'{palavra[0]}']\n",
    "    dados_procura = dados_procura.replace(0, 0.0001)\n",
    "    \n",
    "    cor = pd.merge(dados_procura,dados_acao, right_index=True, left_index=True).pct_change().dropna()\n",
    "    cor.columns = [f'{palavra[0]}' , f'{ticker}']\n",
    "    cor[f'{palavra[0]}'] = cor[f'{palavra[0]}'].shift(periods=periodos)\n",
    "    cor = cor.dropna()\n",
    "        \n",
    "    cor = cor.sort_values(f\"{palavra[0]}\", ascending = False)\n",
    "    retornos_palavra_no_hype = cor.head(5)\n",
    "    \n",
    "    cor['classe'] = ['normal'] * len(cor)\n",
    "    \n",
    "    cor.loc[cor.index.isin(retornos_palavra_no_hype.index), \"classe\"] = \"retorno hype\"\n",
    "    \n",
    "    colors = {'normal':'tab:blue', 'retorno hype':'tab:pink'}\n",
    "    \n",
    "    plt.style.use(\"cyberpunk\")\n",
    "    \n",
    "    media_amostra = cor[f\"{ticker}\"].mean()\n",
    "    \n",
    "    desvio_padrao = cor[f\"{ticker}\"].std()\n",
    "    \n",
    "    fig, ax = plt.subplots()\n",
    "    \n",
    "    ax.scatter(cor[f\"{palavra[0]}\"], cor[f\"{ticker}\"], c=cor['classe'].map(colors))\n",
    "    ax.yaxis.set_major_formatter(mtick.PercentFormatter(1.0))\n",
    "    ax.xaxis.set_major_formatter(mtick.PercentFormatter(1.0))\n",
    "    ax.grid(False)\n",
    "    plt.axhline(media_amostra, **{\"color\":\"white\"})\n",
    "    plt.axhline(media_amostra + desvio_padrao, **{\"color\":\"white\", \"linestyle\": \"--\"})\n",
    "    plt.axhline(media_amostra + desvio_padrao * 2, **{\"color\":\"white\", \"linestyle\": \"--\"})\n",
    "    plt.axhline(media_amostra - desvio_padrao, **{\"color\":\"white\", \"linestyle\": \"--\"})\n",
    "    plt.axhline(media_amostra - desvio_padrao * 2, **{\"color\":\"white\", \"linestyle\": \"--\"})\n",
    "    plt.title(f\"Retornos {palavra[0]} x Pesquisa {palavra[0]}\")\n",
    "    \n",
    "    desvio_padrao = cor[f\"{ticker}\"].std()\n",
    "    \n",
    "    media_absoluta_amostra = cor[f\"{ticker}\"].abs().mean()\n",
    "    \n",
    "    media_asboluta_5 = retornos_palavra_no_hype[f\"{ticker}\"].abs().mean()\n",
    "    \n",
    "    media_absoluta_amostra = round(media_absoluta_amostra * 100, 2)\n",
    "    \n",
    "    media_asboluta_5 = round(media_asboluta_5 * 100, 2)\n",
    "    \n",
    "    print(f\"A variação média absoluta da amostra é {media_absoluta_amostra}%\")\n",
    "    print(f\"A variação média absoluta {periodos} semana(s) depois do hype é {media_asboluta_5}%\")\n",
    "\n",
    "    \n"
   ]
  },
  {
   "cell_type": "code",
   "execution_count": null,
   "id": "bd207673",
   "metadata": {},
   "outputs": [],
   "source": []
  },
  {
   "cell_type": "code",
   "execution_count": null,
   "id": "a5cb2c36",
   "metadata": {},
   "outputs": [],
   "source": []
  },
  {
   "cell_type": "code",
   "execution_count": null,
   "id": "567a843f",
   "metadata": {},
   "outputs": [],
   "source": []
  },
  {
   "cell_type": "code",
   "execution_count": null,
   "id": "89015a75",
   "metadata": {},
   "outputs": [],
   "source": []
  },
  {
   "cell_type": "code",
   "execution_count": null,
   "id": "d510763d",
   "metadata": {},
   "outputs": [],
   "source": []
  },
  {
   "cell_type": "markdown",
   "id": "667ea112",
   "metadata": {},
   "source": [
    "# Como prever o retorno de ações na semana seguinte\n",
    "### Python + Google Trends\n",
    "\n",
    "* Pesquisas semanais do ticker\n",
    "\n",
    "https://trends.google.com.br/trends/explore?date=2022-02-20%202024-02-20&geo=BR&q=PETR&hl=pt"
   ]
  },
  {
   "cell_type": "markdown",
   "id": "3267b52f",
   "metadata": {},
   "source": [
    "# Primeira pergunta\n",
    "\n",
    "* O que acontece na semana da pesquisa com a ação?"
   ]
  },
  {
   "cell_type": "code",
   "execution_count": null,
   "id": "deaa51dd",
   "metadata": {
    "scrolled": true
   },
   "outputs": [],
   "source": [
    "pesquisa_x_mtum(ticker = \"MGLU3.SA\", \n",
    "                 palavra = [\"MGLU3\"], \n",
    "                 tempo_comeco = 2,\n",
    "                 periodos = 0,\n",
    "               #maiores = True\n",
    "               )"
   ]
  },
  {
   "cell_type": "markdown",
   "id": "c35b26e9",
   "metadata": {},
   "source": [
    "## E na semana seguinte, o que acontece?\n",
    "* A ação tende a subir ou cair quando o número de pequisa aumenta?"
   ]
  },
  {
   "cell_type": "code",
   "execution_count": null,
   "id": "31b0e970",
   "metadata": {},
   "outputs": [],
   "source": [
    "for semanas in range(0, 4):\n",
    "\n",
    "    pesquisa_x_mtum(ticker = \"WEGE3.SA\", \n",
    "                     palavra = [\"WEGE3\"], \n",
    "                     tempo_comeco = 2,\n",
    "                     periodos = semanas,\n",
    "                   maiores = True\n",
    "                   )"
   ]
  },
  {
   "cell_type": "markdown",
   "id": "0a28eb31",
   "metadata": {},
   "source": [
    "# Quando a ação sobe em pesquisas, o que acontece com a vol?\n",
    "\n",
    "* Talvez tentar acertar pra onde a ação vai não seja possível, porém podemos operar volatilidade!"
   ]
  },
  {
   "cell_type": "code",
   "execution_count": null,
   "id": "55cd5e3e",
   "metadata": {},
   "outputs": [],
   "source": [
    "pesquisa_x_vol(ticker = \"PETR4.SA\", \n",
    "                 palavra = [\"PETR4\"], \n",
    "                 tempo_comeco = 2,\n",
    "                 periodos = 1\n",
    "                )"
   ]
  },
  {
   "cell_type": "code",
   "execution_count": null,
   "id": "836faee1",
   "metadata": {},
   "outputs": [],
   "source": []
  },
  {
   "cell_type": "code",
   "execution_count": null,
   "id": "24e72b67",
   "metadata": {},
   "outputs": [],
   "source": []
  },
  {
   "cell_type": "code",
   "execution_count": null,
   "id": "9be73fd1",
   "metadata": {},
   "outputs": [],
   "source": []
  },
  {
   "cell_type": "code",
   "execution_count": null,
   "id": "85ec7495",
   "metadata": {},
   "outputs": [],
   "source": []
  },
  {
   "cell_type": "code",
   "execution_count": null,
   "id": "fbba1e29",
   "metadata": {},
   "outputs": [],
   "source": []
  },
  {
   "cell_type": "code",
   "execution_count": null,
   "id": "c8fac549",
   "metadata": {},
   "outputs": [],
   "source": []
  }
 ],
 "metadata": {
  "kernelspec": {
   "display_name": "Python 3 (ipykernel)",
   "language": "python",
   "name": "python3"
  },
  "language_info": {
   "codemirror_mode": {
    "name": "ipython",
    "version": 3
   },
   "file_extension": ".py",
   "mimetype": "text/x-python",
   "name": "python",
   "nbconvert_exporter": "python",
   "pygments_lexer": "ipython3",
   "version": "3.11.3"
  }
 },
 "nbformat": 4,
 "nbformat_minor": 5
}
