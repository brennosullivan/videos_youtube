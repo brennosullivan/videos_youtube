{
 "cells": [
  {
   "cell_type": "markdown",
   "id": "282bec5c",
   "metadata": {},
   "source": [
    "# Como extrair QUALQUER informação de PDFs"
   ]
  },
  {
   "cell_type": "code",
   "execution_count": null,
   "id": "04a2a47d",
   "metadata": {},
   "outputs": [],
   "source": [
    "!pip install pypdf2"
   ]
  },
  {
   "cell_type": "code",
   "execution_count": null,
   "id": "6135631b",
   "metadata": {},
   "outputs": [],
   "source": [
    "!pip install tabula-py"
   ]
  },
  {
   "cell_type": "code",
   "execution_count": null,
   "id": "65bf3270",
   "metadata": {},
   "outputs": [],
   "source": [
    "!pip install camelot-py[cv]"
   ]
  },
  {
   "cell_type": "markdown",
   "id": "231821c4",
   "metadata": {},
   "source": [
    "## Java\n",
    "\n",
    "Pesquise se você tem o Java no Menu Iniciar do computador. O tabula utiliza ele.\n",
    "<br>\n",
    "Caso não tenha: https://www.java.com/pt-BR/download/ie_manual.jsp?locale=pt_BR\n",
    "\n",
    "\n",
    "### Reinicie o computador!"
   ]
  },
  {
   "cell_type": "code",
   "execution_count": null,
   "id": "8493181a",
   "metadata": {},
   "outputs": [],
   "source": [
    "import PyPDF2\n",
    "import re\n",
    "import tabula"
   ]
  },
  {
   "cell_type": "code",
   "execution_count": null,
   "id": "5cea48d3",
   "metadata": {},
   "outputs": [],
   "source": [
    "pdf_file = open('weg.pdf', 'rb')\n",
    "\n",
    "#Faz a leitura usando a biblioteca\n",
    "pdf = PyPDF2.PdfReader(pdf_file)\n",
    "\n",
    "# pega o numero de páginas\n",
    "paginas = len(pdf.pages)\n",
    "\n",
    "paginas"
   ]
  },
  {
   "cell_type": "code",
   "execution_count": null,
   "id": "943b5be7",
   "metadata": {},
   "outputs": [],
   "source": [
    "#lê a primeira página completa\n",
    "pagina1 = pdf.pages[0]\n",
    "\n",
    "pagina1.extract_text()"
   ]
  },
  {
   "cell_type": "code",
   "execution_count": null,
   "id": "f2c93784",
   "metadata": {},
   "outputs": [],
   "source": [
    "# faz a junção das linhas \n",
    "texto_formatado = ''.join(pagina1.extract_text())\n",
    "\n",
    "print(texto_formatado)"
   ]
  },
  {
   "cell_type": "markdown",
   "id": "46ff331b",
   "metadata": {},
   "source": [
    "# Ler tabelas"
   ]
  },
  {
   "cell_type": "code",
   "execution_count": null,
   "id": "364dfffd",
   "metadata": {},
   "outputs": [],
   "source": [
    "tabelaComum = tabula.read_pdf(\"klabin.pdf\", \n",
    "                              pages = \"all\") #guess = False e lattice = True"
   ]
  },
  {
   "cell_type": "code",
   "execution_count": null,
   "id": "f4eab2aa",
   "metadata": {},
   "outputs": [],
   "source": [
    "for tabela in tabelaComum:\n",
    "    \n",
    "    display(tabela)"
   ]
  },
  {
   "cell_type": "code",
   "execution_count": null,
   "id": "b5b335e7",
   "metadata": {},
   "outputs": [],
   "source": []
  }
 ],
 "metadata": {
  "kernelspec": {
   "display_name": "Python 3 (ipykernel)",
   "language": "python",
   "name": "python3"
  },
  "language_info": {
   "codemirror_mode": {
    "name": "ipython",
    "version": 3
   },
   "file_extension": ".py",
   "mimetype": "text/x-python",
   "name": "python",
   "nbconvert_exporter": "python",
   "pygments_lexer": "ipython3",
   "version": "3.8.10"
  }
 },
 "nbformat": 4,
 "nbformat_minor": 5
}
