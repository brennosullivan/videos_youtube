{
 "cells": [
  {
   "cell_type": "markdown",
   "id": "81292303",
   "metadata": {},
   "source": [
    "# Guia para analisar uma carteira de investimento do zero\n",
    "\n",
    "Número de ativos, comparação com índices, maiores e menores altas, monitoramento ao vivo da carteira..\n",
    "retornos mes a mes"
   ]
  },
  {
   "cell_type": "code",
   "execution_count": null,
   "id": "f31e5e83",
   "metadata": {},
   "outputs": [],
   "source": [
    "import pandas as pd\n",
    "import yfinance as yf\n",
    "import numpy as np\n",
    "import mplcyberpunk\n",
    "import matplotlib.pyplot as plt\n",
    "\n",
    "plt.style.use('cyberpunk')"
   ]
  },
  {
   "cell_type": "markdown",
   "id": "84825d53",
   "metadata": {},
   "source": [
    "# Tópico 1 - Puxando dados do mercado"
   ]
  },
  {
   "cell_type": "code",
   "execution_count": null,
   "id": "23696ae1",
   "metadata": {},
   "outputs": [],
   "source": [
    "ativos = ['WEGE3.SA', 'ABEV3.SA', 'PETR4.SA', 'ITUB3.SA']\n",
    "\n",
    "dados_carteiras = yf.download(ativos, start = \"2015-01-01\", end = '2023-12-31')\n",
    "dados_carteiras\n",
    "dados_carteiras = dados_carteiras['Adj Close']"
   ]
  },
  {
   "cell_type": "code",
   "execution_count": null,
   "id": "447bd32d",
   "metadata": {},
   "outputs": [],
   "source": [
    "dados_ibovespa = yf.download('^BVSP', start = \"2015-01-01\", end = '2023-12-31')['Adj Close']\n",
    "dados_ibovespa"
   ]
  },
  {
   "cell_type": "markdown",
   "id": "b565c9ef",
   "metadata": {},
   "source": [
    "# Tópico 2 - Calculando a rentabilidade da carteira"
   ]
  },
  {
   "cell_type": "code",
   "execution_count": null,
   "id": "3f438667",
   "metadata": {},
   "outputs": [],
   "source": [
    "retorno_acoes = dados_carteiras.pct_change().dropna()\n",
    "\n",
    "#vamos considerar 25% de peso em cada ação, com rebalanceamento diário\n",
    "\n",
    "retorno_acoes['Carteira'] = (retorno_acoes/4).sum(axis = 1)\n",
    "retorno_acoes"
   ]
  },
  {
   "cell_type": "code",
   "execution_count": null,
   "id": "2890a151",
   "metadata": {},
   "outputs": [],
   "source": [
    "retorno_carteira = (1 + retorno_acoes['Carteira']).cumprod() - 1\n",
    "retorno_carteira"
   ]
  },
  {
   "cell_type": "code",
   "execution_count": null,
   "id": "44d75bb3",
   "metadata": {},
   "outputs": [],
   "source": [
    "retorno_carteira.plot()"
   ]
  },
  {
   "cell_type": "markdown",
   "id": "2caadd3c",
   "metadata": {},
   "source": [
    "# Tópico "
   ]
  },
  {
   "cell_type": "code",
   "execution_count": null,
   "id": "c0677ae7",
   "metadata": {},
   "outputs": [],
   "source": []
  },
  {
   "cell_type": "code",
   "execution_count": null,
   "id": "f5bf7cd2",
   "metadata": {},
   "outputs": [],
   "source": []
  },
  {
   "cell_type": "code",
   "execution_count": null,
   "id": "cb145934",
   "metadata": {},
   "outputs": [],
   "source": []
  },
  {
   "cell_type": "code",
   "execution_count": null,
   "id": "32d39203",
   "metadata": {},
   "outputs": [],
   "source": []
  },
  {
   "cell_type": "code",
   "execution_count": null,
   "id": "73317a5a",
   "metadata": {},
   "outputs": [],
   "source": []
  }
 ],
 "metadata": {
  "kernelspec": {
   "display_name": "Python 3 (ipykernel)",
   "language": "python",
   "name": "python3"
  },
  "language_info": {
   "codemirror_mode": {
    "name": "ipython",
    "version": 3
   },
   "file_extension": ".py",
   "mimetype": "text/x-python",
   "name": "python",
   "nbconvert_exporter": "python",
   "pygments_lexer": "ipython3",
   "version": "3.11.3"
  }
 },
 "nbformat": 4,
 "nbformat_minor": 5
}
