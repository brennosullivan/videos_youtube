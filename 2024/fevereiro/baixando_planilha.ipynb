{
 "cells": [
  {
   "cell_type": "markdown",
   "id": "45f4e175",
   "metadata": {},
   "source": [
    "# Como pegar a composição do Ibovespa usando o Python\n",
    "\n",
    "###  Web scraping na B3"
   ]
  },
  {
   "cell_type": "code",
   "execution_count": null,
   "id": "088be170",
   "metadata": {},
   "outputs": [],
   "source": [
    "import pandas as pd\n",
    "from selenium import webdriver\n",
    "from selenium.webdriver.chrome.service import Service\n",
    "from webdriver_manager.chrome import ChromeDriverManager\n",
    "from selenium.webdriver.chrome.options import Options\n",
    "from selenium.webdriver.common.by import By\n",
    "from selenium.webdriver.support import expected_conditions as EC\n",
    "from selenium.webdriver.support.ui import WebDriverWait\n",
    "import time\n",
    "from datetime import date\n",
    "import os"
   ]
  },
  {
   "cell_type": "code",
   "execution_count": null,
   "id": "6e7b381a",
   "metadata": {},
   "outputs": [],
   "source": [
    "driver = webdriver.Chrome(service=Service(ChromeDriverManager().install()))\n",
    "\n",
    "url = 'https://www.b3.com.br/pt_br/market-data-e-indices/indices/indices-amplos/indice-ibovespa-ibovespa-composicao-da-carteira.htm'\n",
    "\n",
    "driver.get(url)"
   ]
  },
  {
   "cell_type": "code",
   "execution_count": null,
   "id": "93a815e0",
   "metadata": {},
   "outputs": [],
   "source": [
    "WebDriverWait(driver, 10).until(\n",
    "    EC.frame_to_be_available_and_switch_to_it((By.ID, \"bvmf_iframe\")))\n",
    "\n",
    "planilha = driver.find_element(\"xpath\", '//*[@id=\"divContainerIframeB3\"]/div/div[1]/form/div[2]/div/div[2]/div/div/div[1]/div[2]/p/a')\n",
    "\n",
    "driver.execute_script(\"arguments[0].click();\", planilha)\n",
    "\n",
    "time.sleep(5)\n",
    "\n",
    "driver.quit()"
   ]
  },
  {
   "cell_type": "markdown",
   "id": "b193fe49",
   "metadata": {},
   "source": [
    "# Material\n",
    "\n",
    "* Código na descrição"
   ]
  }
 ],
 "metadata": {
  "kernelspec": {
   "display_name": "Python 3 (ipykernel)",
   "language": "python",
   "name": "python3"
  },
  "language_info": {
   "codemirror_mode": {
    "name": "ipython",
    "version": 3
   },
   "file_extension": ".py",
   "mimetype": "text/x-python",
   "name": "python",
   "nbconvert_exporter": "python",
   "pygments_lexer": "ipython3",
   "version": "3.8.10"
  }
 },
 "nbformat": 4,
 "nbformat_minor": 5
}
