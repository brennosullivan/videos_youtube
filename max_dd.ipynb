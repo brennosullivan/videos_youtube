{
 "cells": [
  {
   "cell_type": "markdown",
   "id": "e11b354f",
   "metadata": {},
   "source": [
    "# Como calcular o máximo drawdown de uma ação com Python?"
   ]
  },
  {
   "cell_type": "code",
   "execution_count": null,
   "id": "6e5c6b74",
   "metadata": {},
   "outputs": [],
   "source": [
    "import yfinance as yf\n",
    "import matplotlib.pyplot as plt\n",
    "import datetime as dt\n",
    "import matplotlib.ticker as mtick\n",
    "import matplotlib.dates as mdate\n",
    "import mplcyberpunk"
   ]
  },
  {
   "cell_type": "code",
   "execution_count": null,
   "id": "f46986c2",
   "metadata": {
    "scrolled": true
   },
   "outputs": [],
   "source": [
    "plt.style.use(\"cyberpunk\")"
   ]
  },
  {
   "cell_type": "code",
   "execution_count": null,
   "id": "1f4994ea",
   "metadata": {},
   "outputs": [],
   "source": [
    "data_final = dt.datetime.now()\n",
    "data_inicial = data_final - dt.timedelta(days = 1500)\n",
    "\n",
    "ativo = \"PETR.SA\"\n",
    "\n",
    "precos = yf.download(ativo, data_inicial, data_final)['Adj Close']\n",
    "\n",
    "precos"
   ]
  },
  {
   "cell_type": "code",
   "execution_count": null,
   "id": "444ebef1",
   "metadata": {},
   "outputs": [],
   "source": [
    "precos_max = precos.cummax()\n",
    "drawdowns = precos/precos_max - 1\n",
    "drawdown_maximo = drawdowns.min()\n",
    "print(drawdown_maximo)"
   ]
  },
  {
   "cell_type": "code",
   "execution_count": null,
   "id": "6101045c",
   "metadata": {},
   "outputs": [],
   "source": [
    "fig, ax = plt.subplots()\n",
    "\n",
    "ax.plot(drawdowns.index, drawdowns)\n",
    "ax.yaxis.set_major_formatter(mtick.PercentFormatter(1.0))\n",
    "ax.xaxis.set_major_locator(mdate.YearLocator(1))\n",
    "plt.show()"
   ]
  },
  {
   "cell_type": "code",
   "execution_count": null,
   "id": "e756853e",
   "metadata": {},
   "outputs": [],
   "source": []
  },
  {
   "cell_type": "code",
   "execution_count": null,
   "id": "f337e554",
   "metadata": {},
   "outputs": [],
   "source": []
  },
  {
   "cell_type": "code",
   "execution_count": null,
   "id": "d0838425",
   "metadata": {},
   "outputs": [],
   "source": []
  }
 ],
 "metadata": {
  "kernelspec": {
   "display_name": "Python 3 (ipykernel)",
   "language": "python",
   "name": "python3"
  },
  "language_info": {
   "codemirror_mode": {
    "name": "ipython",
    "version": 3
   },
   "file_extension": ".py",
   "mimetype": "text/x-python",
   "name": "python",
   "nbconvert_exporter": "python",
   "pygments_lexer": "ipython3",
   "version": "3.9.12"
  }
 },
 "nbformat": 4,
 "nbformat_minor": 5
}
