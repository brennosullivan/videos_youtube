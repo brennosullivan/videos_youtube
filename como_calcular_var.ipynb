{
 "cells": [
  {
   "cell_type": "markdown",
   "id": "39c41b0f",
   "metadata": {},
   "source": [
    "# Como calcular o VAR de uma carteira usando Python"
   ]
  },
  {
   "cell_type": "code",
   "execution_count": null,
   "id": "b2eb0e54",
   "metadata": {},
   "outputs": [],
   "source": [
    "import numpy as np\n",
    "import yfinance as yf"
   ]
  },
  {
   "cell_type": "code",
   "execution_count": null,
   "id": "f6ba592a",
   "metadata": {},
   "outputs": [],
   "source": [
    "def var_historico(acao, alpha = 0.05, periodo = \"D\"):\n",
    "    \n",
    "    dados_acao = yf.download(acao)['Adj Close']\n",
    "    \n",
    "    if periodo == \"M\":\n",
    "        \n",
    "        retorno_acao = dados_acao.resample(\"M\").last().pct_change().dropna()\n",
    "        \n",
    "    else:\n",
    "        \n",
    "        retorno_acao = dados_acao.pct_change().dropna()\n",
    "        \n",
    "    retornos_ordenadados = np.sort(retorno_acao.values)\n",
    "    \n",
    "    posicao_do_retorno_alpha = int(alpha * len(retornos_ordenadados))\n",
    "    \n",
    "    retorno_var = retornos_ordenadados[posicao_do_retorno_alpha]\n",
    "    \n",
    "    return retorno_var"
   ]
  },
  {
   "cell_type": "code",
   "execution_count": 15,
   "id": "7a516067",
   "metadata": {},
   "outputs": [
    {
     "name": "stdout",
     "output_type": "stream",
     "text": [
      "[*********************100%***********************]  1 of 1 completed\n",
      "O VAR com 95% de intervalo de confiança é: -9.90%\n"
     ]
    }
   ],
   "source": [
    "acao = \"WEGE3.SA\"\n",
    "\n",
    "var = var_historico(acao, periodo = \"M\") * 100\n",
    "\n",
    "print(f\"O VAR com 95% de intervalo de confiança é: {var:.2f}%\")"
   ]
  },
  {
   "cell_type": "code",
   "execution_count": null,
   "id": "ea98fb96",
   "metadata": {},
   "outputs": [],
   "source": []
  },
  {
   "cell_type": "code",
   "execution_count": null,
   "id": "ad5774fc",
   "metadata": {},
   "outputs": [],
   "source": []
  }
 ],
 "metadata": {
  "kernelspec": {
   "display_name": "Python 3 (ipykernel)",
   "language": "python",
   "name": "python3"
  },
  "language_info": {
   "codemirror_mode": {
    "name": "ipython",
    "version": 3
   },
   "file_extension": ".py",
   "mimetype": "text/x-python",
   "name": "python",
   "nbconvert_exporter": "python",
   "pygments_lexer": "ipython3",
   "version": "3.9.12"
  }
 },
 "nbformat": 4,
 "nbformat_minor": 5
}
