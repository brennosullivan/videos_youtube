{
 "cells": [
  {
   "cell_type": "markdown",
   "id": "ec4a89f4",
   "metadata": {},
   "source": [
    "# Pandas para finanças - Saia do zero em uma aula\n",
    "\n",
    "<br>\n",
    "\n",
    "* O que é o Pandas?\n",
    "* Material PDF na descrição \n",
    "* Como baixar o Python\n",
    "* Básico do Python no card"
   ]
  },
  {
   "cell_type": "markdown",
   "id": "b6ade6ed",
   "metadata": {},
   "source": [
    "# Tópico 1 - O que são DataFrames e Series?"
   ]
  },
  {
   "cell_type": "code",
   "execution_count": null,
   "id": "84fd2959",
   "metadata": {},
   "outputs": [],
   "source": [
    "import pandas as pd\n",
    "import yfinance as yf"
   ]
  },
  {
   "cell_type": "code",
   "execution_count": null,
   "id": "1d4b190c",
   "metadata": {},
   "outputs": [],
   "source": [
    "#criar um dataframe\n",
    "\n",
    "dicionario = {\"empresa\": ['Weg', 'Petrobras', 'Vale'],\n",
    "             \"cotacoes\": [20, 30, 50.43]}\n",
    "\n",
    "df = pd.DataFrame(dicionario)\n",
    "\n",
    "display(df)"
   ]
  },
  {
   "cell_type": "code",
   "execution_count": null,
   "id": "2fb81dfa",
   "metadata": {},
   "outputs": [],
   "source": [
    "dados_empresas = yf.download(\"WEGE3.SA\", start = \"2018-01-01\", end = \"2022-12-31\")\n",
    "\n",
    "display(dados_empresas)"
   ]
  },
  {
   "cell_type": "markdown",
   "id": "958f8afc",
   "metadata": {},
   "source": [
    "# Tópico 2 - Como selecionar colunas no Pandas "
   ]
  },
  {
   "cell_type": "code",
   "execution_count": null,
   "id": "864f7f73",
   "metadata": {},
   "outputs": [],
   "source": [
    "dados_ajustados = dados_empresas['Adj Close']\n",
    "\n",
    "dados_ajustados\n",
    "\n",
    "duas_colunas = dados_empresas[['Adj Close', 'Volume']]\n",
    "\n",
    "duas_colunas"
   ]
  },
  {
   "cell_type": "markdown",
   "id": "472476fc",
   "metadata": {},
   "source": [
    "# Tópico 3 - Loc e Iloc - Como pegar dados em um determinado tempo\n",
    "\n",
    "* Loc é um operador que você vai utilizar junto com os nomes\n",
    "* Iloc é um operado que você vai utilizar com números (matriz)"
   ]
  },
  {
   "cell_type": "code",
   "execution_count": null,
   "id": "155eebe7",
   "metadata": {},
   "outputs": [],
   "source": [
    "dados_empresas"
   ]
  },
  {
   "cell_type": "code",
   "execution_count": null,
   "id": "111d80e6",
   "metadata": {},
   "outputs": [],
   "source": [
    "dados_empresas.loc[\"2018-01-03\", \"Adj Close\"]\n",
    "\n",
    "dados_empresas.iloc[1, 4]\n",
    "\n",
    "dados_empresas.iloc[-1, :]\n",
    "\n",
    "dados_empresas.iloc[:, 0]\n",
    "\n",
    "dados_empresas.loc[\"2018-01-03\": \"2018-01-27\", \"Adj Close\"]"
   ]
  },
  {
   "cell_type": "markdown",
   "id": "110dbc2b",
   "metadata": {},
   "source": [
    "# Tópico 4 - Como calcular rentabilidade com o Pandas"
   ]
  },
  {
   "cell_type": "code",
   "execution_count": null,
   "id": "781d654f",
   "metadata": {},
   "outputs": [],
   "source": [
    "cotacoes_ajustadas = dados_empresas['Adj Close']\n",
    "\n",
    "retornos_diarios = cotacoes_ajustadas.pct_change().dropna()\n",
    "\n",
    "retorno_5_dias = cotacoes_ajustadas.pct_change(periods = 5).dropna()\n",
    "\n",
    "display(retorno_5_dias)\n",
    "display(retornos_diarios)"
   ]
  },
  {
   "cell_type": "markdown",
   "id": "f7f74fc7",
   "metadata": {},
   "source": [
    "# Tópico 5 - Como readequar uma série de tempo "
   ]
  },
  {
   "cell_type": "code",
   "execution_count": null,
   "id": "dbcd7456",
   "metadata": {},
   "outputs": [],
   "source": [
    "cotacoes_ajustadas\n",
    "\n",
    "cotacoes_mensais = cotacoes_ajustadas.resample(\"M\").last()\n",
    "\n",
    "r1 = cotacoes_mensais.pct_change().dropna()\n",
    "\n",
    "r6 = cotacoes_mensais.pct_change(periods = 6).dropna()\n",
    "\n",
    "display(r6)"
   ]
  },
  {
   "cell_type": "markdown",
   "id": "ed380619",
   "metadata": {},
   "source": [
    "# Tópico 6 - Como ler arquivos com o Pandas"
   ]
  },
  {
   "cell_type": "code",
   "execution_count": null,
   "id": "b7529c80",
   "metadata": {},
   "outputs": [],
   "source": [
    "dados_pl = pd.read_excel(r'C:\\Users\\lsiqu\\videos_youtube\\dados_yt\\dados_pl.xlsx')\n",
    "\n",
    "display(dados_pl)"
   ]
  },
  {
   "cell_type": "markdown",
   "id": "16a6a450",
   "metadata": {},
   "source": [
    "# Tópico 7 - Operações aritméticas com o Pandas"
   ]
  },
  {
   "cell_type": "code",
   "execution_count": null,
   "id": "38fe6976",
   "metadata": {},
   "outputs": [],
   "source": [
    "dados_pl['lpa'] = dados_pl['lucro_liquido']/dados_pl['quant_acoes']\n",
    "\n",
    "dados_pl"
   ]
  },
  {
   "cell_type": "code",
   "execution_count": null,
   "id": "d62f5d9c",
   "metadata": {},
   "outputs": [],
   "source": [
    "dados_pl['p_l'] = dados_pl['preco']/dados_pl['lpa']\n",
    "\n",
    "dados_pl"
   ]
  },
  {
   "cell_type": "markdown",
   "id": "ccdacbbe",
   "metadata": {},
   "source": [
    "# Tópico 8 - Como filtrar dados em tabelas"
   ]
  },
  {
   "cell_type": "code",
   "execution_count": null,
   "id": "75e59715",
   "metadata": {},
   "outputs": [],
   "source": [
    "empresas_lucrativas_e_com_pl_abaixo_10 = dados_pl[(dados_pl['p_l'] > 0) &\n",
    "                                                 (dados_pl['p_l'] < 10)]\n",
    "\n",
    "display(empresas_lucrativas_e_com_pl_abaixo_10)"
   ]
  },
  {
   "cell_type": "markdown",
   "id": "0fa97914",
   "metadata": {},
   "source": [
    "# Tópico 9 - Ordenando dados "
   ]
  },
  {
   "cell_type": "code",
   "execution_count": null,
   "id": "1386d250",
   "metadata": {},
   "outputs": [],
   "source": [
    "melhores_empresas = empresas_lucrativas_e_com_pl_abaixo_10.sort_values(by = \"p_l\")\n",
    "\n",
    "melhores_empresas.head(10)"
   ]
  },
  {
   "cell_type": "markdown",
   "id": "789492e5",
   "metadata": {},
   "source": [
    "# Tópico 10 - Rankings no Pandas"
   ]
  },
  {
   "cell_type": "code",
   "execution_count": null,
   "id": "a4d2235e",
   "metadata": {},
   "outputs": [],
   "source": [
    "melhores_empresas['Ranking_pl'] = melhores_empresas['p_l'].rank()\n",
    "\n",
    "melhores_empresas"
   ]
  },
  {
   "cell_type": "markdown",
   "id": "2742c150",
   "metadata": {},
   "source": [
    "# Tópico 11 - Criando modelos de média móvel com o Pandas"
   ]
  },
  {
   "cell_type": "code",
   "execution_count": null,
   "id": "fee2ab06",
   "metadata": {},
   "outputs": [],
   "source": [
    "media_movel = pd.DataFrame(index = cotacoes_ajustadas.index)\n",
    "\n",
    "media_movel['cotacoes_weg'] = cotacoes_ajustadas.values\n",
    "\n",
    "media_movel['media_movel_devagar'] = media_movel['cotacoes_weg'].rolling(200).mean()\n",
    "\n",
    "media_movel['media_movel_rapida'] = media_movel['cotacoes_weg'].rolling(50).mean()\n",
    "\n",
    "media_movel = media_movel.dropna()\n",
    "\n",
    "media_movel"
   ]
  },
  {
   "cell_type": "code",
   "execution_count": null,
   "id": "33abc562",
   "metadata": {},
   "outputs": [],
   "source": [
    "media_movel.plot()"
   ]
  },
  {
   "cell_type": "code",
   "execution_count": null,
   "id": "da947638",
   "metadata": {},
   "outputs": [],
   "source": []
  }
 ],
 "metadata": {
  "kernelspec": {
   "display_name": "Python 3 (ipykernel)",
   "language": "python",
   "name": "python3"
  },
  "language_info": {
   "codemirror_mode": {
    "name": "ipython",
    "version": 3
   },
   "file_extension": ".py",
   "mimetype": "text/x-python",
   "name": "python",
   "nbconvert_exporter": "python",
   "pygments_lexer": "ipython3",
   "version": "3.9.12"
  }
 },
 "nbformat": 4,
 "nbformat_minor": 5
}
