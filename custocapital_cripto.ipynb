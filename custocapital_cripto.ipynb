{
 "cells": [
  {
   "cell_type": "code",
   "execution_count": null,
   "id": "59a98197",
   "metadata": {},
   "outputs": [],
   "source": [
    "import pandas as pd\n",
    "import numpy as np\n",
    "from pandas_datareader import data as pdr\n",
    "from sklearn.linear_model import LinearRegression"
   ]
  },
  {
   "cell_type": "code",
   "execution_count": null,
   "id": "20348bc0",
   "metadata": {},
   "outputs": [],
   "source": [
    "\n",
    "scraper = CmcScraper(\"BTC\")\n",
    "df = scraper.get_dataframe()\n",
    "df = df.set_index(\"Date\")\n",
    "scraper = CmcScraper(\"GMX\")\n",
    "df_gmx = scraper.get_dataframe()\n",
    "df_gmx = df_gmx.set_index(\"Date\")\n",
    "scraper = CmcScraper(\"Sushi\")\n",
    "df_sushi = scraper.get_dataframe()\n",
    "df_sushi = df_sushi.set_index(\"Date\")"
   ]
  },
  {
   "cell_type": "code",
   "execution_count": 59,
   "id": "04638e63",
   "metadata": {},
   "outputs": [
    {
     "data": {
      "text/plain": [
       "0.2674884607084259"
      ]
     },
     "execution_count": 59,
     "metadata": {},
     "output_type": "execute_result"
    }
   ],
   "source": [
    "retonos_sushi = df_sushi['Close'].sort_index(ascending = True).pct_change().dropna()\n",
    "retornos_gmx = df_gmx['Close'].sort_index(ascending = True).pct_change().dropna()\n",
    "retornos_bitcoin = df['Close'].sort_index(ascending = True).pct_change().dropna()\n",
    "\n",
    "\n",
    "#beta sushi\n",
    "\n",
    "retorno_btc_sushi = retornos_bitcoin.loc[retornos_bitcoin.index >= retonos_sushi.index[0]]\n",
    "retorno_btc_sushi = np.array(retorno_btc_sushi).reshape(-1, 1)\n",
    "retonos_sushi = np.array(retonos_sushi).reshape(-1, 1)\n",
    "\n",
    "\n",
    "linear_regressor = LinearRegression()\n",
    "reg = linear_regressor.fit(retorno_btc_sushi, retonos_sushi)\n",
    "beta_ativo = reg.coef_[0][0]\n",
    "r_quadrado = linear_regressor.score(retorno_btc_sushi, retonos_sushi)\n",
    "\n",
    "#beta gmx\n",
    "\n",
    "retorno_btc_gmx = retornos_bitcoin.loc[retornos_bitcoin.index >= retornos_gmx.index[0]]\n",
    "retorno_btc_gmx = np.array(retorno_btc_gmx).reshape(-1, 1)\n",
    "retornos_gmx = np.array(retornos_gmx).reshape(-1, 1)\n",
    "\n",
    "\n",
    "linear_regressor = LinearRegression()\n",
    "reg = linear_regressor.fit(retorno_btc_gmx, retornos_gmx)\n",
    "beta_ativo = reg.coef_[0][0]\n",
    "r_quadrado = linear_regressor.score(retorno_btc_gmx, retornos_gmx)\n",
    "\n",
    "\n",
    "\n",
    "r_quadrado"
   ]
  },
  {
   "cell_type": "code",
   "execution_count": null,
   "id": "d9426762",
   "metadata": {},
   "outputs": [],
   "source": [
    "tbond10 =  pdr.get_data_yahoo('IEF', \"2017-01-01\", \"2022-08-31\")['Adj Close']\n",
    "tbond10 = tbond10.resample(\"Y\").last().pct_change().dropna()\n",
    "tbond10"
   ]
  },
  {
   "cell_type": "code",
   "execution_count": null,
   "id": "cacf982e",
   "metadata": {},
   "outputs": [],
   "source": [
    "df_bitcoin_anual = df.resample(\"Y\").last().pct_change().dropna()\n",
    "df_bitcoin_anual = df_bitcoin_anual['Close']\n",
    "df_bitcoin_anual = df_bitcoin_anual.loc[df_bitcoin_anual.index > \"2017-12-31\"]\n",
    "df_bitcoin_anual"
   ]
  },
  {
   "cell_type": "code",
   "execution_count": null,
   "id": "6db718ca",
   "metadata": {},
   "outputs": [],
   "source": [
    "premio_risco = df_bitcoin_anual - tbond10\n",
    "premio_risco.mean()"
   ]
  },
  {
   "cell_type": "code",
   "execution_count": null,
   "id": "a62b637e",
   "metadata": {},
   "outputs": [],
   "source": []
  },
  {
   "cell_type": "code",
   "execution_count": null,
   "id": "ba1d151f",
   "metadata": {},
   "outputs": [],
   "source": []
  }
 ],
 "metadata": {
  "kernelspec": {
   "display_name": "Python 3 (ipykernel)",
   "language": "python",
   "name": "python3"
  },
  "language_info": {
   "codemirror_mode": {
    "name": "ipython",
    "version": 3
   },
   "file_extension": ".py",
   "mimetype": "text/x-python",
   "name": "python",
   "nbconvert_exporter": "python",
   "pygments_lexer": "ipython3",
   "version": "3.9.12"
  }
 },
 "nbformat": 4,
 "nbformat_minor": 5
}
